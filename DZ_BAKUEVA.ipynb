{
 "cells": [
  {
   "cell_type": "markdown",
   "id": "aff3ed97",
   "metadata": {},
   "source": [
    "# Домашнее задание  \n",
    "## Бакуева Дженнет "
   ]
  },
  {
   "cell_type": "markdown",
   "id": "bb1ad9eb",
   "metadata": {},
   "source": [
    "Для начала работы нам необходимо импортировать библиотеки **pandas** и **numpy** для работы с данными."
   ]
  },
  {
   "cell_type": "code",
   "execution_count": 1,
   "id": "c44c74f5",
   "metadata": {},
   "outputs": [],
   "source": [
    "import pandas as pd\n",
    "import numpy as np"
   ]
  },
  {
   "cell_type": "markdown",
   "id": "5ceb7e8c",
   "metadata": {},
   "source": [
    "Далее выгружаем датасет для дальнейшей работы. Данные были взяты с сайта kaggle.com.  \n",
    "## Описание данных:  \n",
    "В данных представлен большой массив информации, предназначенный для анализа личности потребителя и определения характеристик \"идеального\" покупателя.  \n",
    "Переменные внутри датасета можно разделить на 4 подгруппы: социодемографические показатели, описание продукта, описание маркетинговой компании, описание места. Всего в данных имеется 28 колон с переменными.  \n",
    "### Люди:  \n",
    "**ID** - уникальный идентификатор клиента  \n",
    "**Year_Birth** - год рождения клиента  \n",
    "**Education** - уровень образования клиента  \n",
    "**Marital_Status** - семейное положение клиента  \n",
    "**Income** - годовой доход семьи клиента  \n",
    "**Kidhome** - rоличество детей в семье клиента  \n",
    "**Teenhome** - количество подростков в семье клиента  \n",
    "**Dt_Customer** - дата регистрации клиента в компании  \n",
    "**Recency** - количество дней с момента последней покупки клиента  \n",
    "**Complain** - бинарная переменная наличия жалоб, где переменная принимает *значение 1*, если клиент жаловался за последние 2 года, и *значение 0* в противном случае  \n",
    "### Продукт:  \n",
    "**MntWines** - сумма, потраченная на вино за последние 2 года  \n",
    "**MntFruits** - сумма, потраченная на фрукты за последние 2 года  \n",
    "**MntMeatProducts** - сумма, потраченная на мясо за последние 2 года  \n",
    "**MntFishProducts** - сумма, потраченная на рыбу за последние 2 года  \n",
    "**MntSweetProducts** - сумма, потраченная на сладости за последние 2 года  \n",
    "**MntGoldProds** - сумма, потраченная на золото за последние 2 года  \n",
    "### Продвижение:\n",
    "**NumDealsPurchases** - количество покупок со скидкой  \n",
    "**AcceptedCmp1** - бинарная переменная, где переменная принимает *значение 1*, если клиент принял предложение в 1-й кампании, и *значение 0* в противном случае  \n",
    "**AcceptedCmp2** - бинарная переменная, где переменная принимает *значение 1*, если клиент принял предложение в 2-й кампании, и *значение 0* в противном случае  \n",
    "**AcceptedCmp3** - бинарная переменная, где переменная принимает *значение 1*, если клиент принял предложение в 3-й кампании, и *значение 0* в противном случае  \n",
    "**AcceptedCmp4** - бинарная переменная, где переменная принимает *значение 1*, если клиент принял предложение в 4-й кампании, и *значение 0* в противном случае  \n",
    "**AcceptedCmp5** - бинарная переменная, где переменная принимает *значение 1*, если клиент принял предложение в 5-й кампании, и *значение 0* в противном случае  \n",
    "**Responce** - бинарная переменная, где переменная принимает *значение 1*, если клиент принял предложение в последней кампании,и *значение 0* в противном случае  \n",
    "### Место:  \n",
    "**NumWebPurchases** - количество покупок, совершенных через веб-сайт компании  \n",
    "**NumCatalogPurchases** - количество покупок, сделанных с использованием каталога  \n",
    "**NumStorePurchases** - количество покупок, совершенных непосредственно в магазинах  \n",
    "**NumWebVisitsMonth** - количество посещений веб-сайта компании за последний месяц  \n",
    "## Цели:  \n",
    "Хотелось бы отметить, что при выборе данных мною были выделены некоторые цели создания данного исследования, а именно определение зависимости количества покупок и размера потраченных денег от социодемографических показателей клиентов. В дальнейшем все манипуляции с данными будут исходить из цели исследования. Предполагается объединить стоимость всех покупок и количество всех покупок и использовать их в качестве зависимых переменных для исследования."
   ]
  },
  {
   "cell_type": "code",
   "execution_count": 116,
   "id": "480e6aed",
   "metadata": {},
   "outputs": [],
   "source": [
    "df = pd.read_excel('marketing_campaign2.xlsx')"
   ]
  },
  {
   "cell_type": "code",
   "execution_count": 117,
   "id": "902af79a",
   "metadata": {},
   "outputs": [
    {
     "data": {
      "text/html": [
       "<div>\n",
       "<style scoped>\n",
       "    .dataframe tbody tr th:only-of-type {\n",
       "        vertical-align: middle;\n",
       "    }\n",
       "\n",
       "    .dataframe tbody tr th {\n",
       "        vertical-align: top;\n",
       "    }\n",
       "\n",
       "    .dataframe thead th {\n",
       "        text-align: right;\n",
       "    }\n",
       "</style>\n",
       "<table border=\"1\" class=\"dataframe\">\n",
       "  <thead>\n",
       "    <tr style=\"text-align: right;\">\n",
       "      <th></th>\n",
       "      <th>ID</th>\n",
       "      <th>Year_Birth</th>\n",
       "      <th>Education</th>\n",
       "      <th>Marital_Status</th>\n",
       "      <th>Income</th>\n",
       "      <th>Kidhome</th>\n",
       "      <th>Teenhome</th>\n",
       "      <th>Dt_Customer</th>\n",
       "      <th>Recency</th>\n",
       "      <th>MntWines</th>\n",
       "      <th>...</th>\n",
       "      <th>NumWebVisitsMonth</th>\n",
       "      <th>AcceptedCmp3</th>\n",
       "      <th>AcceptedCmp4</th>\n",
       "      <th>AcceptedCmp5</th>\n",
       "      <th>AcceptedCmp1</th>\n",
       "      <th>AcceptedCmp2</th>\n",
       "      <th>Complain</th>\n",
       "      <th>Z_CostContact</th>\n",
       "      <th>Z_Revenue</th>\n",
       "      <th>Response</th>\n",
       "    </tr>\n",
       "  </thead>\n",
       "  <tbody>\n",
       "    <tr>\n",
       "      <th>0</th>\n",
       "      <td>5524</td>\n",
       "      <td>1957</td>\n",
       "      <td>Graduation</td>\n",
       "      <td>Single</td>\n",
       "      <td>58138.0</td>\n",
       "      <td>0</td>\n",
       "      <td>0</td>\n",
       "      <td>04-09-2012</td>\n",
       "      <td>58</td>\n",
       "      <td>635</td>\n",
       "      <td>...</td>\n",
       "      <td>7</td>\n",
       "      <td>0</td>\n",
       "      <td>0</td>\n",
       "      <td>0</td>\n",
       "      <td>0</td>\n",
       "      <td>0</td>\n",
       "      <td>0</td>\n",
       "      <td>3</td>\n",
       "      <td>11</td>\n",
       "      <td>1</td>\n",
       "    </tr>\n",
       "    <tr>\n",
       "      <th>1</th>\n",
       "      <td>2174</td>\n",
       "      <td>1954</td>\n",
       "      <td>Graduation</td>\n",
       "      <td>Single</td>\n",
       "      <td>46344.0</td>\n",
       "      <td>1</td>\n",
       "      <td>1</td>\n",
       "      <td>08-03-2014</td>\n",
       "      <td>38</td>\n",
       "      <td>11</td>\n",
       "      <td>...</td>\n",
       "      <td>5</td>\n",
       "      <td>0</td>\n",
       "      <td>0</td>\n",
       "      <td>0</td>\n",
       "      <td>0</td>\n",
       "      <td>0</td>\n",
       "      <td>0</td>\n",
       "      <td>3</td>\n",
       "      <td>11</td>\n",
       "      <td>0</td>\n",
       "    </tr>\n",
       "    <tr>\n",
       "      <th>2</th>\n",
       "      <td>4141</td>\n",
       "      <td>1965</td>\n",
       "      <td>Graduation</td>\n",
       "      <td>Together</td>\n",
       "      <td>71613.0</td>\n",
       "      <td>0</td>\n",
       "      <td>0</td>\n",
       "      <td>21-08-2013</td>\n",
       "      <td>26</td>\n",
       "      <td>426</td>\n",
       "      <td>...</td>\n",
       "      <td>4</td>\n",
       "      <td>0</td>\n",
       "      <td>0</td>\n",
       "      <td>0</td>\n",
       "      <td>0</td>\n",
       "      <td>0</td>\n",
       "      <td>0</td>\n",
       "      <td>3</td>\n",
       "      <td>11</td>\n",
       "      <td>0</td>\n",
       "    </tr>\n",
       "    <tr>\n",
       "      <th>3</th>\n",
       "      <td>6182</td>\n",
       "      <td>1984</td>\n",
       "      <td>Graduation</td>\n",
       "      <td>Together</td>\n",
       "      <td>26646.0</td>\n",
       "      <td>1</td>\n",
       "      <td>0</td>\n",
       "      <td>10-02-2014</td>\n",
       "      <td>26</td>\n",
       "      <td>11</td>\n",
       "      <td>...</td>\n",
       "      <td>6</td>\n",
       "      <td>0</td>\n",
       "      <td>0</td>\n",
       "      <td>0</td>\n",
       "      <td>0</td>\n",
       "      <td>0</td>\n",
       "      <td>0</td>\n",
       "      <td>3</td>\n",
       "      <td>11</td>\n",
       "      <td>0</td>\n",
       "    </tr>\n",
       "    <tr>\n",
       "      <th>4</th>\n",
       "      <td>5324</td>\n",
       "      <td>1981</td>\n",
       "      <td>PhD</td>\n",
       "      <td>Married</td>\n",
       "      <td>58293.0</td>\n",
       "      <td>1</td>\n",
       "      <td>0</td>\n",
       "      <td>19-01-2014</td>\n",
       "      <td>94</td>\n",
       "      <td>173</td>\n",
       "      <td>...</td>\n",
       "      <td>5</td>\n",
       "      <td>0</td>\n",
       "      <td>0</td>\n",
       "      <td>0</td>\n",
       "      <td>0</td>\n",
       "      <td>0</td>\n",
       "      <td>0</td>\n",
       "      <td>3</td>\n",
       "      <td>11</td>\n",
       "      <td>0</td>\n",
       "    </tr>\n",
       "  </tbody>\n",
       "</table>\n",
       "<p>5 rows × 29 columns</p>\n",
       "</div>"
      ],
      "text/plain": [
       "     ID  Year_Birth   Education Marital_Status   Income  Kidhome  Teenhome  \\\n",
       "0  5524        1957  Graduation         Single  58138.0        0         0   \n",
       "1  2174        1954  Graduation         Single  46344.0        1         1   \n",
       "2  4141        1965  Graduation       Together  71613.0        0         0   \n",
       "3  6182        1984  Graduation       Together  26646.0        1         0   \n",
       "4  5324        1981         PhD        Married  58293.0        1         0   \n",
       "\n",
       "  Dt_Customer  Recency  MntWines  ...  NumWebVisitsMonth  AcceptedCmp3  \\\n",
       "0  04-09-2012       58       635  ...                  7             0   \n",
       "1  08-03-2014       38        11  ...                  5             0   \n",
       "2  21-08-2013       26       426  ...                  4             0   \n",
       "3  10-02-2014       26        11  ...                  6             0   \n",
       "4  19-01-2014       94       173  ...                  5             0   \n",
       "\n",
       "   AcceptedCmp4  AcceptedCmp5  AcceptedCmp1  AcceptedCmp2  Complain  \\\n",
       "0             0             0             0             0         0   \n",
       "1             0             0             0             0         0   \n",
       "2             0             0             0             0         0   \n",
       "3             0             0             0             0         0   \n",
       "4             0             0             0             0         0   \n",
       "\n",
       "   Z_CostContact  Z_Revenue  Response  \n",
       "0              3         11         1  \n",
       "1              3         11         0  \n",
       "2              3         11         0  \n",
       "3              3         11         0  \n",
       "4              3         11         0  \n",
       "\n",
       "[5 rows x 29 columns]"
      ]
     },
     "execution_count": 117,
     "metadata": {},
     "output_type": "execute_result"
    }
   ],
   "source": [
    "df.head()"
   ]
  },
  {
   "cell_type": "code",
   "execution_count": 118,
   "id": "55398d4c",
   "metadata": {},
   "outputs": [
    {
     "data": {
      "text/plain": [
       "(2240, 29)"
      ]
     },
     "execution_count": 118,
     "metadata": {},
     "output_type": "execute_result"
    }
   ],
   "source": [
    "df.shape"
   ]
  },
  {
   "cell_type": "markdown",
   "id": "bafb544c",
   "metadata": {},
   "source": [
    "Мы имеем 2240 строк, то есть у нас есть 2240 наблюдей, по которым мы можем проводить дальнейший анализ. "
   ]
  },
  {
   "cell_type": "code",
   "execution_count": 119,
   "id": "62045da6",
   "metadata": {},
   "outputs": [
    {
     "name": "stdout",
     "output_type": "stream",
     "text": [
      "<class 'pandas.core.frame.DataFrame'>\n",
      "RangeIndex: 2240 entries, 0 to 2239\n",
      "Data columns (total 29 columns):\n",
      " #   Column               Non-Null Count  Dtype  \n",
      "---  ------               --------------  -----  \n",
      " 0   ID                   2240 non-null   int64  \n",
      " 1   Year_Birth           2240 non-null   int64  \n",
      " 2   Education            2240 non-null   object \n",
      " 3   Marital_Status       2240 non-null   object \n",
      " 4   Income               2216 non-null   float64\n",
      " 5   Kidhome              2240 non-null   int64  \n",
      " 6   Teenhome             2240 non-null   int64  \n",
      " 7   Dt_Customer          2240 non-null   object \n",
      " 8   Recency              2240 non-null   int64  \n",
      " 9   MntWines             2240 non-null   int64  \n",
      " 10  MntFruits            2240 non-null   int64  \n",
      " 11  MntMeatProducts      2240 non-null   int64  \n",
      " 12  MntFishProducts      2240 non-null   int64  \n",
      " 13  MntSweetProducts     2240 non-null   int64  \n",
      " 14  MntGoldProds         2240 non-null   int64  \n",
      " 15  NumDealsPurchases    2240 non-null   int64  \n",
      " 16  NumWebPurchases      2240 non-null   int64  \n",
      " 17  NumCatalogPurchases  2240 non-null   int64  \n",
      " 18  NumStorePurchases    2240 non-null   int64  \n",
      " 19  NumWebVisitsMonth    2240 non-null   int64  \n",
      " 20  AcceptedCmp3         2240 non-null   int64  \n",
      " 21  AcceptedCmp4         2240 non-null   int64  \n",
      " 22  AcceptedCmp5         2240 non-null   int64  \n",
      " 23  AcceptedCmp1         2240 non-null   int64  \n",
      " 24  AcceptedCmp2         2240 non-null   int64  \n",
      " 25  Complain             2240 non-null   int64  \n",
      " 26  Z_CostContact        2240 non-null   int64  \n",
      " 27  Z_Revenue            2240 non-null   int64  \n",
      " 28  Response             2240 non-null   int64  \n",
      "dtypes: float64(1), int64(25), object(3)\n",
      "memory usage: 507.6+ KB\n"
     ]
    }
   ],
   "source": [
    "df.info()"
   ]
  },
  {
   "cell_type": "markdown",
   "id": "952b2e3c",
   "metadata": {},
   "source": [
    "Мы можем видеть, что в наших данных есть пропуски в значении Income. Позже мы будем с ними работать.  \n"
   ]
  },
  {
   "cell_type": "markdown",
   "id": "b2beace6",
   "metadata": {},
   "source": [
    "Отсортируем наши данные по количеству потраченных денег на все категории товаров от меньшего к большему. Для удобства создадим общую перемнную с агрегированными расходами покупателей на все категории товаров. "
   ]
  },
  {
   "cell_type": "code",
   "execution_count": 120,
   "id": "457b8cc0",
   "metadata": {},
   "outputs": [],
   "source": [
    "df['Sales'] = df['MntWines'] + df['MntFruits'] + df['MntMeatProducts'] + df['MntFishProducts'] + df['MntSweetProducts'] +  df['MntGoldProds']"
   ]
  },
  {
   "cell_type": "code",
   "execution_count": 121,
   "id": "0592ba9a",
   "metadata": {},
   "outputs": [
    {
     "data": {
      "text/html": [
       "<div>\n",
       "<style scoped>\n",
       "    .dataframe tbody tr th:only-of-type {\n",
       "        vertical-align: middle;\n",
       "    }\n",
       "\n",
       "    .dataframe tbody tr th {\n",
       "        vertical-align: top;\n",
       "    }\n",
       "\n",
       "    .dataframe thead th {\n",
       "        text-align: right;\n",
       "    }\n",
       "</style>\n",
       "<table border=\"1\" class=\"dataframe\">\n",
       "  <thead>\n",
       "    <tr style=\"text-align: right;\">\n",
       "      <th></th>\n",
       "      <th>ID</th>\n",
       "      <th>Year_Birth</th>\n",
       "      <th>Education</th>\n",
       "      <th>Marital_Status</th>\n",
       "      <th>Income</th>\n",
       "      <th>Kidhome</th>\n",
       "      <th>Teenhome</th>\n",
       "      <th>Dt_Customer</th>\n",
       "      <th>Recency</th>\n",
       "      <th>MntWines</th>\n",
       "      <th>...</th>\n",
       "      <th>AcceptedCmp3</th>\n",
       "      <th>AcceptedCmp4</th>\n",
       "      <th>AcceptedCmp5</th>\n",
       "      <th>AcceptedCmp1</th>\n",
       "      <th>AcceptedCmp2</th>\n",
       "      <th>Complain</th>\n",
       "      <th>Z_CostContact</th>\n",
       "      <th>Z_Revenue</th>\n",
       "      <th>Response</th>\n",
       "      <th>Sales</th>\n",
       "    </tr>\n",
       "  </thead>\n",
       "  <tbody>\n",
       "    <tr>\n",
       "      <th>1524</th>\n",
       "      <td>11110</td>\n",
       "      <td>1973</td>\n",
       "      <td>Graduation</td>\n",
       "      <td>Single</td>\n",
       "      <td>3502.0</td>\n",
       "      <td>1</td>\n",
       "      <td>0</td>\n",
       "      <td>13-04-2013</td>\n",
       "      <td>56</td>\n",
       "      <td>2</td>\n",
       "      <td>...</td>\n",
       "      <td>0</td>\n",
       "      <td>0</td>\n",
       "      <td>0</td>\n",
       "      <td>0</td>\n",
       "      <td>0</td>\n",
       "      <td>0</td>\n",
       "      <td>3</td>\n",
       "      <td>11</td>\n",
       "      <td>0</td>\n",
       "      <td>5</td>\n",
       "    </tr>\n",
       "    <tr>\n",
       "      <th>981</th>\n",
       "      <td>3955</td>\n",
       "      <td>1965</td>\n",
       "      <td>Graduation</td>\n",
       "      <td>Divorced</td>\n",
       "      <td>4861.0</td>\n",
       "      <td>0</td>\n",
       "      <td>0</td>\n",
       "      <td>22-06-2014</td>\n",
       "      <td>20</td>\n",
       "      <td>2</td>\n",
       "      <td>...</td>\n",
       "      <td>0</td>\n",
       "      <td>0</td>\n",
       "      <td>0</td>\n",
       "      <td>0</td>\n",
       "      <td>0</td>\n",
       "      <td>0</td>\n",
       "      <td>3</td>\n",
       "      <td>11</td>\n",
       "      <td>0</td>\n",
       "      <td>6</td>\n",
       "    </tr>\n",
       "    <tr>\n",
       "      <th>655</th>\n",
       "      <td>5555</td>\n",
       "      <td>1975</td>\n",
       "      <td>Graduation</td>\n",
       "      <td>Divorced</td>\n",
       "      <td>153924.0</td>\n",
       "      <td>0</td>\n",
       "      <td>0</td>\n",
       "      <td>07-02-2014</td>\n",
       "      <td>81</td>\n",
       "      <td>1</td>\n",
       "      <td>...</td>\n",
       "      <td>0</td>\n",
       "      <td>0</td>\n",
       "      <td>0</td>\n",
       "      <td>0</td>\n",
       "      <td>0</td>\n",
       "      <td>0</td>\n",
       "      <td>3</td>\n",
       "      <td>11</td>\n",
       "      <td>0</td>\n",
       "      <td>6</td>\n",
       "    </tr>\n",
       "    <tr>\n",
       "      <th>1420</th>\n",
       "      <td>5824</td>\n",
       "      <td>1972</td>\n",
       "      <td>PhD</td>\n",
       "      <td>Together</td>\n",
       "      <td>34578.0</td>\n",
       "      <td>2</td>\n",
       "      <td>1</td>\n",
       "      <td>11-04-2014</td>\n",
       "      <td>1</td>\n",
       "      <td>7</td>\n",
       "      <td>...</td>\n",
       "      <td>0</td>\n",
       "      <td>0</td>\n",
       "      <td>0</td>\n",
       "      <td>0</td>\n",
       "      <td>0</td>\n",
       "      <td>0</td>\n",
       "      <td>3</td>\n",
       "      <td>11</td>\n",
       "      <td>0</td>\n",
       "      <td>8</td>\n",
       "    </tr>\n",
       "    <tr>\n",
       "      <th>2132</th>\n",
       "      <td>11181</td>\n",
       "      <td>1949</td>\n",
       "      <td>PhD</td>\n",
       "      <td>Married</td>\n",
       "      <td>156924.0</td>\n",
       "      <td>0</td>\n",
       "      <td>0</td>\n",
       "      <td>29-08-2013</td>\n",
       "      <td>85</td>\n",
       "      <td>2</td>\n",
       "      <td>...</td>\n",
       "      <td>0</td>\n",
       "      <td>0</td>\n",
       "      <td>0</td>\n",
       "      <td>0</td>\n",
       "      <td>0</td>\n",
       "      <td>0</td>\n",
       "      <td>3</td>\n",
       "      <td>11</td>\n",
       "      <td>0</td>\n",
       "      <td>8</td>\n",
       "    </tr>\n",
       "    <tr>\n",
       "      <th>...</th>\n",
       "      <td>...</td>\n",
       "      <td>...</td>\n",
       "      <td>...</td>\n",
       "      <td>...</td>\n",
       "      <td>...</td>\n",
       "      <td>...</td>\n",
       "      <td>...</td>\n",
       "      <td>...</td>\n",
       "      <td>...</td>\n",
       "      <td>...</td>\n",
       "      <td>...</td>\n",
       "      <td>...</td>\n",
       "      <td>...</td>\n",
       "      <td>...</td>\n",
       "      <td>...</td>\n",
       "      <td>...</td>\n",
       "      <td>...</td>\n",
       "      <td>...</td>\n",
       "      <td>...</td>\n",
       "      <td>...</td>\n",
       "      <td>...</td>\n",
       "    </tr>\n",
       "    <tr>\n",
       "      <th>1052</th>\n",
       "      <td>4475</td>\n",
       "      <td>1949</td>\n",
       "      <td>PhD</td>\n",
       "      <td>Married</td>\n",
       "      <td>69098.0</td>\n",
       "      <td>0</td>\n",
       "      <td>0</td>\n",
       "      <td>16-02-2013</td>\n",
       "      <td>82</td>\n",
       "      <td>1315</td>\n",
       "      <td>...</td>\n",
       "      <td>0</td>\n",
       "      <td>0</td>\n",
       "      <td>0</td>\n",
       "      <td>0</td>\n",
       "      <td>0</td>\n",
       "      <td>0</td>\n",
       "      <td>3</td>\n",
       "      <td>11</td>\n",
       "      <td>0</td>\n",
       "      <td>2440</td>\n",
       "    </tr>\n",
       "    <tr>\n",
       "      <th>987</th>\n",
       "      <td>4580</td>\n",
       "      <td>1969</td>\n",
       "      <td>Graduation</td>\n",
       "      <td>Married</td>\n",
       "      <td>75759.0</td>\n",
       "      <td>0</td>\n",
       "      <td>0</td>\n",
       "      <td>25-10-2013</td>\n",
       "      <td>46</td>\n",
       "      <td>1394</td>\n",
       "      <td>...</td>\n",
       "      <td>1</td>\n",
       "      <td>0</td>\n",
       "      <td>1</td>\n",
       "      <td>1</td>\n",
       "      <td>0</td>\n",
       "      <td>0</td>\n",
       "      <td>3</td>\n",
       "      <td>11</td>\n",
       "      <td>1</td>\n",
       "      <td>2486</td>\n",
       "    </tr>\n",
       "    <tr>\n",
       "      <th>1492</th>\n",
       "      <td>1763</td>\n",
       "      <td>1988</td>\n",
       "      <td>Graduation</td>\n",
       "      <td>Together</td>\n",
       "      <td>87679.0</td>\n",
       "      <td>0</td>\n",
       "      <td>0</td>\n",
       "      <td>27-07-2013</td>\n",
       "      <td>62</td>\n",
       "      <td>1259</td>\n",
       "      <td>...</td>\n",
       "      <td>1</td>\n",
       "      <td>0</td>\n",
       "      <td>1</td>\n",
       "      <td>1</td>\n",
       "      <td>0</td>\n",
       "      <td>0</td>\n",
       "      <td>3</td>\n",
       "      <td>11</td>\n",
       "      <td>1</td>\n",
       "      <td>2524</td>\n",
       "    </tr>\n",
       "    <tr>\n",
       "      <th>1572</th>\n",
       "      <td>5350</td>\n",
       "      <td>1991</td>\n",
       "      <td>Master</td>\n",
       "      <td>Single</td>\n",
       "      <td>90638.0</td>\n",
       "      <td>0</td>\n",
       "      <td>0</td>\n",
       "      <td>13-02-2014</td>\n",
       "      <td>29</td>\n",
       "      <td>1156</td>\n",
       "      <td>...</td>\n",
       "      <td>0</td>\n",
       "      <td>0</td>\n",
       "      <td>1</td>\n",
       "      <td>0</td>\n",
       "      <td>0</td>\n",
       "      <td>0</td>\n",
       "      <td>3</td>\n",
       "      <td>11</td>\n",
       "      <td>1</td>\n",
       "      <td>2525</td>\n",
       "    </tr>\n",
       "    <tr>\n",
       "      <th>1179</th>\n",
       "      <td>5735</td>\n",
       "      <td>1991</td>\n",
       "      <td>Master</td>\n",
       "      <td>Single</td>\n",
       "      <td>90638.0</td>\n",
       "      <td>0</td>\n",
       "      <td>0</td>\n",
       "      <td>13-02-2014</td>\n",
       "      <td>29</td>\n",
       "      <td>1156</td>\n",
       "      <td>...</td>\n",
       "      <td>0</td>\n",
       "      <td>0</td>\n",
       "      <td>1</td>\n",
       "      <td>0</td>\n",
       "      <td>0</td>\n",
       "      <td>0</td>\n",
       "      <td>3</td>\n",
       "      <td>11</td>\n",
       "      <td>0</td>\n",
       "      <td>2525</td>\n",
       "    </tr>\n",
       "  </tbody>\n",
       "</table>\n",
       "<p>2240 rows × 30 columns</p>\n",
       "</div>"
      ],
      "text/plain": [
       "         ID  Year_Birth   Education Marital_Status    Income  Kidhome  \\\n",
       "1524  11110        1973  Graduation         Single    3502.0        1   \n",
       "981    3955        1965  Graduation       Divorced    4861.0        0   \n",
       "655    5555        1975  Graduation       Divorced  153924.0        0   \n",
       "1420   5824        1972         PhD       Together   34578.0        2   \n",
       "2132  11181        1949         PhD        Married  156924.0        0   \n",
       "...     ...         ...         ...            ...       ...      ...   \n",
       "1052   4475        1949         PhD        Married   69098.0        0   \n",
       "987    4580        1969  Graduation        Married   75759.0        0   \n",
       "1492   1763        1988  Graduation       Together   87679.0        0   \n",
       "1572   5350        1991      Master         Single   90638.0        0   \n",
       "1179   5735        1991      Master         Single   90638.0        0   \n",
       "\n",
       "      Teenhome Dt_Customer  Recency  MntWines  ...  AcceptedCmp3  \\\n",
       "1524         0  13-04-2013       56         2  ...             0   \n",
       "981          0  22-06-2014       20         2  ...             0   \n",
       "655          0  07-02-2014       81         1  ...             0   \n",
       "1420         1  11-04-2014        1         7  ...             0   \n",
       "2132         0  29-08-2013       85         2  ...             0   \n",
       "...        ...         ...      ...       ...  ...           ...   \n",
       "1052         0  16-02-2013       82      1315  ...             0   \n",
       "987          0  25-10-2013       46      1394  ...             1   \n",
       "1492         0  27-07-2013       62      1259  ...             1   \n",
       "1572         0  13-02-2014       29      1156  ...             0   \n",
       "1179         0  13-02-2014       29      1156  ...             0   \n",
       "\n",
       "      AcceptedCmp4  AcceptedCmp5  AcceptedCmp1  AcceptedCmp2  Complain  \\\n",
       "1524             0             0             0             0         0   \n",
       "981              0             0             0             0         0   \n",
       "655              0             0             0             0         0   \n",
       "1420             0             0             0             0         0   \n",
       "2132             0             0             0             0         0   \n",
       "...            ...           ...           ...           ...       ...   \n",
       "1052             0             0             0             0         0   \n",
       "987              0             1             1             0         0   \n",
       "1492             0             1             1             0         0   \n",
       "1572             0             1             0             0         0   \n",
       "1179             0             1             0             0         0   \n",
       "\n",
       "      Z_CostContact  Z_Revenue  Response  Sales  \n",
       "1524              3         11         0      5  \n",
       "981               3         11         0      6  \n",
       "655               3         11         0      6  \n",
       "1420              3         11         0      8  \n",
       "2132              3         11         0      8  \n",
       "...             ...        ...       ...    ...  \n",
       "1052              3         11         0   2440  \n",
       "987               3         11         1   2486  \n",
       "1492              3         11         1   2524  \n",
       "1572              3         11         1   2525  \n",
       "1179              3         11         0   2525  \n",
       "\n",
       "[2240 rows x 30 columns]"
      ]
     },
     "execution_count": 121,
     "metadata": {},
     "output_type": "execute_result"
    }
   ],
   "source": [
    "df.sort_values(by = 'Sales')"
   ]
  },
  {
   "cell_type": "markdown",
   "id": "156293d3",
   "metadata": {},
   "source": [
    "Теперь для дальнейшего удобства удалим ненужные для дальнейшего исследования перемнные:"
   ]
  },
  {
   "cell_type": "code",
   "execution_count": 122,
   "id": "e954cf55",
   "metadata": {},
   "outputs": [],
   "source": [
    "del df['MntWines']\n",
    "del df['MntFruits'] \n",
    "del df['MntMeatProducts']\n",
    "del df['MntFishProducts']\n",
    "del df['MntSweetProducts']\n",
    "del df['MntGoldProds']\n",
    "del df['Dt_Customer'] \n",
    "del df['Z_Revenue']\n",
    "del df['Z_CostContact']"
   ]
  },
  {
   "cell_type": "code",
   "execution_count": 123,
   "id": "7e3f1837",
   "metadata": {},
   "outputs": [
    {
     "data": {
      "text/html": [
       "<div>\n",
       "<style scoped>\n",
       "    .dataframe tbody tr th:only-of-type {\n",
       "        vertical-align: middle;\n",
       "    }\n",
       "\n",
       "    .dataframe tbody tr th {\n",
       "        vertical-align: top;\n",
       "    }\n",
       "\n",
       "    .dataframe thead th {\n",
       "        text-align: right;\n",
       "    }\n",
       "</style>\n",
       "<table border=\"1\" class=\"dataframe\">\n",
       "  <thead>\n",
       "    <tr style=\"text-align: right;\">\n",
       "      <th></th>\n",
       "      <th>ID</th>\n",
       "      <th>Year_Birth</th>\n",
       "      <th>Education</th>\n",
       "      <th>Marital_Status</th>\n",
       "      <th>Income</th>\n",
       "      <th>Kidhome</th>\n",
       "      <th>Teenhome</th>\n",
       "      <th>Recency</th>\n",
       "      <th>NumDealsPurchases</th>\n",
       "      <th>NumWebPurchases</th>\n",
       "      <th>...</th>\n",
       "      <th>NumStorePurchases</th>\n",
       "      <th>NumWebVisitsMonth</th>\n",
       "      <th>AcceptedCmp3</th>\n",
       "      <th>AcceptedCmp4</th>\n",
       "      <th>AcceptedCmp5</th>\n",
       "      <th>AcceptedCmp1</th>\n",
       "      <th>AcceptedCmp2</th>\n",
       "      <th>Complain</th>\n",
       "      <th>Response</th>\n",
       "      <th>Sales</th>\n",
       "    </tr>\n",
       "  </thead>\n",
       "  <tbody>\n",
       "    <tr>\n",
       "      <th>0</th>\n",
       "      <td>5524</td>\n",
       "      <td>1957</td>\n",
       "      <td>Graduation</td>\n",
       "      <td>Single</td>\n",
       "      <td>58138.0</td>\n",
       "      <td>0</td>\n",
       "      <td>0</td>\n",
       "      <td>58</td>\n",
       "      <td>3</td>\n",
       "      <td>8</td>\n",
       "      <td>...</td>\n",
       "      <td>4</td>\n",
       "      <td>7</td>\n",
       "      <td>0</td>\n",
       "      <td>0</td>\n",
       "      <td>0</td>\n",
       "      <td>0</td>\n",
       "      <td>0</td>\n",
       "      <td>0</td>\n",
       "      <td>1</td>\n",
       "      <td>1617</td>\n",
       "    </tr>\n",
       "    <tr>\n",
       "      <th>1</th>\n",
       "      <td>2174</td>\n",
       "      <td>1954</td>\n",
       "      <td>Graduation</td>\n",
       "      <td>Single</td>\n",
       "      <td>46344.0</td>\n",
       "      <td>1</td>\n",
       "      <td>1</td>\n",
       "      <td>38</td>\n",
       "      <td>2</td>\n",
       "      <td>1</td>\n",
       "      <td>...</td>\n",
       "      <td>2</td>\n",
       "      <td>5</td>\n",
       "      <td>0</td>\n",
       "      <td>0</td>\n",
       "      <td>0</td>\n",
       "      <td>0</td>\n",
       "      <td>0</td>\n",
       "      <td>0</td>\n",
       "      <td>0</td>\n",
       "      <td>27</td>\n",
       "    </tr>\n",
       "    <tr>\n",
       "      <th>2</th>\n",
       "      <td>4141</td>\n",
       "      <td>1965</td>\n",
       "      <td>Graduation</td>\n",
       "      <td>Together</td>\n",
       "      <td>71613.0</td>\n",
       "      <td>0</td>\n",
       "      <td>0</td>\n",
       "      <td>26</td>\n",
       "      <td>1</td>\n",
       "      <td>8</td>\n",
       "      <td>...</td>\n",
       "      <td>10</td>\n",
       "      <td>4</td>\n",
       "      <td>0</td>\n",
       "      <td>0</td>\n",
       "      <td>0</td>\n",
       "      <td>0</td>\n",
       "      <td>0</td>\n",
       "      <td>0</td>\n",
       "      <td>0</td>\n",
       "      <td>776</td>\n",
       "    </tr>\n",
       "    <tr>\n",
       "      <th>3</th>\n",
       "      <td>6182</td>\n",
       "      <td>1984</td>\n",
       "      <td>Graduation</td>\n",
       "      <td>Together</td>\n",
       "      <td>26646.0</td>\n",
       "      <td>1</td>\n",
       "      <td>0</td>\n",
       "      <td>26</td>\n",
       "      <td>2</td>\n",
       "      <td>2</td>\n",
       "      <td>...</td>\n",
       "      <td>4</td>\n",
       "      <td>6</td>\n",
       "      <td>0</td>\n",
       "      <td>0</td>\n",
       "      <td>0</td>\n",
       "      <td>0</td>\n",
       "      <td>0</td>\n",
       "      <td>0</td>\n",
       "      <td>0</td>\n",
       "      <td>53</td>\n",
       "    </tr>\n",
       "    <tr>\n",
       "      <th>4</th>\n",
       "      <td>5324</td>\n",
       "      <td>1981</td>\n",
       "      <td>PhD</td>\n",
       "      <td>Married</td>\n",
       "      <td>58293.0</td>\n",
       "      <td>1</td>\n",
       "      <td>0</td>\n",
       "      <td>94</td>\n",
       "      <td>5</td>\n",
       "      <td>5</td>\n",
       "      <td>...</td>\n",
       "      <td>6</td>\n",
       "      <td>5</td>\n",
       "      <td>0</td>\n",
       "      <td>0</td>\n",
       "      <td>0</td>\n",
       "      <td>0</td>\n",
       "      <td>0</td>\n",
       "      <td>0</td>\n",
       "      <td>0</td>\n",
       "      <td>422</td>\n",
       "    </tr>\n",
       "  </tbody>\n",
       "</table>\n",
       "<p>5 rows × 21 columns</p>\n",
       "</div>"
      ],
      "text/plain": [
       "     ID  Year_Birth   Education Marital_Status   Income  Kidhome  Teenhome  \\\n",
       "0  5524        1957  Graduation         Single  58138.0        0         0   \n",
       "1  2174        1954  Graduation         Single  46344.0        1         1   \n",
       "2  4141        1965  Graduation       Together  71613.0        0         0   \n",
       "3  6182        1984  Graduation       Together  26646.0        1         0   \n",
       "4  5324        1981         PhD        Married  58293.0        1         0   \n",
       "\n",
       "   Recency  NumDealsPurchases  NumWebPurchases  ...  NumStorePurchases  \\\n",
       "0       58                  3                8  ...                  4   \n",
       "1       38                  2                1  ...                  2   \n",
       "2       26                  1                8  ...                 10   \n",
       "3       26                  2                2  ...                  4   \n",
       "4       94                  5                5  ...                  6   \n",
       "\n",
       "   NumWebVisitsMonth  AcceptedCmp3  AcceptedCmp4  AcceptedCmp5  AcceptedCmp1  \\\n",
       "0                  7             0             0             0             0   \n",
       "1                  5             0             0             0             0   \n",
       "2                  4             0             0             0             0   \n",
       "3                  6             0             0             0             0   \n",
       "4                  5             0             0             0             0   \n",
       "\n",
       "   AcceptedCmp2  Complain  Response  Sales  \n",
       "0             0         0         1   1617  \n",
       "1             0         0         0     27  \n",
       "2             0         0         0    776  \n",
       "3             0         0         0     53  \n",
       "4             0         0         0    422  \n",
       "\n",
       "[5 rows x 21 columns]"
      ]
     },
     "execution_count": 123,
     "metadata": {},
     "output_type": "execute_result"
    }
   ],
   "source": [
    "df.head()"
   ]
  },
  {
   "cell_type": "markdown",
   "id": "5ed596d3",
   "metadata": {},
   "source": [
    "Создадим переменную возраста *Age* для удобства: "
   ]
  },
  {
   "cell_type": "code",
   "execution_count": 124,
   "id": "5148cfbd",
   "metadata": {},
   "outputs": [],
   "source": [
    "df['Age'] = 2022 - df['Year_Birth']"
   ]
  },
  {
   "cell_type": "code",
   "execution_count": 125,
   "id": "127323d3",
   "metadata": {},
   "outputs": [],
   "source": [
    "del df['Year_Birth']"
   ]
  },
  {
   "cell_type": "code",
   "execution_count": 126,
   "id": "09040d7d",
   "metadata": {},
   "outputs": [],
   "source": [
    "df['Purchases'] = df['NumWebPurchases'] + df['NumCatalogPurchases'] + df['NumStorePurchases'] + df['NumWebVisitsMonth'] + df['NumDealsPurchases']"
   ]
  },
  {
   "cell_type": "code",
   "execution_count": 127,
   "id": "df66550d",
   "metadata": {},
   "outputs": [],
   "source": [
    "del df['NumWebPurchases']\n",
    "del df['NumCatalogPurchases']\n",
    "del df['NumStorePurchases']\n",
    "del df['NumWebVisitsMonth']\n",
    "del df['NumDealsPurchases'] "
   ]
  },
  {
   "cell_type": "code",
   "execution_count": 128,
   "id": "51a254b7",
   "metadata": {
    "scrolled": true
   },
   "outputs": [
    {
     "data": {
      "text/html": [
       "<div>\n",
       "<style scoped>\n",
       "    .dataframe tbody tr th:only-of-type {\n",
       "        vertical-align: middle;\n",
       "    }\n",
       "\n",
       "    .dataframe tbody tr th {\n",
       "        vertical-align: top;\n",
       "    }\n",
       "\n",
       "    .dataframe thead th {\n",
       "        text-align: right;\n",
       "    }\n",
       "</style>\n",
       "<table border=\"1\" class=\"dataframe\">\n",
       "  <thead>\n",
       "    <tr style=\"text-align: right;\">\n",
       "      <th></th>\n",
       "      <th>ID</th>\n",
       "      <th>Education</th>\n",
       "      <th>Marital_Status</th>\n",
       "      <th>Income</th>\n",
       "      <th>Kidhome</th>\n",
       "      <th>Teenhome</th>\n",
       "      <th>Recency</th>\n",
       "      <th>AcceptedCmp3</th>\n",
       "      <th>AcceptedCmp4</th>\n",
       "      <th>AcceptedCmp5</th>\n",
       "      <th>AcceptedCmp1</th>\n",
       "      <th>AcceptedCmp2</th>\n",
       "      <th>Complain</th>\n",
       "      <th>Response</th>\n",
       "      <th>Sales</th>\n",
       "      <th>Age</th>\n",
       "      <th>Purchases</th>\n",
       "    </tr>\n",
       "  </thead>\n",
       "  <tbody>\n",
       "    <tr>\n",
       "      <th>0</th>\n",
       "      <td>5524</td>\n",
       "      <td>Graduation</td>\n",
       "      <td>Single</td>\n",
       "      <td>58138.0</td>\n",
       "      <td>0</td>\n",
       "      <td>0</td>\n",
       "      <td>58</td>\n",
       "      <td>0</td>\n",
       "      <td>0</td>\n",
       "      <td>0</td>\n",
       "      <td>0</td>\n",
       "      <td>0</td>\n",
       "      <td>0</td>\n",
       "      <td>1</td>\n",
       "      <td>1617</td>\n",
       "      <td>65</td>\n",
       "      <td>32</td>\n",
       "    </tr>\n",
       "    <tr>\n",
       "      <th>1</th>\n",
       "      <td>2174</td>\n",
       "      <td>Graduation</td>\n",
       "      <td>Single</td>\n",
       "      <td>46344.0</td>\n",
       "      <td>1</td>\n",
       "      <td>1</td>\n",
       "      <td>38</td>\n",
       "      <td>0</td>\n",
       "      <td>0</td>\n",
       "      <td>0</td>\n",
       "      <td>0</td>\n",
       "      <td>0</td>\n",
       "      <td>0</td>\n",
       "      <td>0</td>\n",
       "      <td>27</td>\n",
       "      <td>68</td>\n",
       "      <td>11</td>\n",
       "    </tr>\n",
       "    <tr>\n",
       "      <th>2</th>\n",
       "      <td>4141</td>\n",
       "      <td>Graduation</td>\n",
       "      <td>Together</td>\n",
       "      <td>71613.0</td>\n",
       "      <td>0</td>\n",
       "      <td>0</td>\n",
       "      <td>26</td>\n",
       "      <td>0</td>\n",
       "      <td>0</td>\n",
       "      <td>0</td>\n",
       "      <td>0</td>\n",
       "      <td>0</td>\n",
       "      <td>0</td>\n",
       "      <td>0</td>\n",
       "      <td>776</td>\n",
       "      <td>57</td>\n",
       "      <td>25</td>\n",
       "    </tr>\n",
       "    <tr>\n",
       "      <th>3</th>\n",
       "      <td>6182</td>\n",
       "      <td>Graduation</td>\n",
       "      <td>Together</td>\n",
       "      <td>26646.0</td>\n",
       "      <td>1</td>\n",
       "      <td>0</td>\n",
       "      <td>26</td>\n",
       "      <td>0</td>\n",
       "      <td>0</td>\n",
       "      <td>0</td>\n",
       "      <td>0</td>\n",
       "      <td>0</td>\n",
       "      <td>0</td>\n",
       "      <td>0</td>\n",
       "      <td>53</td>\n",
       "      <td>38</td>\n",
       "      <td>14</td>\n",
       "    </tr>\n",
       "    <tr>\n",
       "      <th>4</th>\n",
       "      <td>5324</td>\n",
       "      <td>PhD</td>\n",
       "      <td>Married</td>\n",
       "      <td>58293.0</td>\n",
       "      <td>1</td>\n",
       "      <td>0</td>\n",
       "      <td>94</td>\n",
       "      <td>0</td>\n",
       "      <td>0</td>\n",
       "      <td>0</td>\n",
       "      <td>0</td>\n",
       "      <td>0</td>\n",
       "      <td>0</td>\n",
       "      <td>0</td>\n",
       "      <td>422</td>\n",
       "      <td>41</td>\n",
       "      <td>24</td>\n",
       "    </tr>\n",
       "  </tbody>\n",
       "</table>\n",
       "</div>"
      ],
      "text/plain": [
       "     ID   Education Marital_Status   Income  Kidhome  Teenhome  Recency  \\\n",
       "0  5524  Graduation         Single  58138.0        0         0       58   \n",
       "1  2174  Graduation         Single  46344.0        1         1       38   \n",
       "2  4141  Graduation       Together  71613.0        0         0       26   \n",
       "3  6182  Graduation       Together  26646.0        1         0       26   \n",
       "4  5324         PhD        Married  58293.0        1         0       94   \n",
       "\n",
       "   AcceptedCmp3  AcceptedCmp4  AcceptedCmp5  AcceptedCmp1  AcceptedCmp2  \\\n",
       "0             0             0             0             0             0   \n",
       "1             0             0             0             0             0   \n",
       "2             0             0             0             0             0   \n",
       "3             0             0             0             0             0   \n",
       "4             0             0             0             0             0   \n",
       "\n",
       "   Complain  Response  Sales  Age  Purchases  \n",
       "0         0         1   1617   65         32  \n",
       "1         0         0     27   68         11  \n",
       "2         0         0    776   57         25  \n",
       "3         0         0     53   38         14  \n",
       "4         0         0    422   41         24  "
      ]
     },
     "execution_count": 128,
     "metadata": {},
     "output_type": "execute_result"
    }
   ],
   "source": [
    "df.head()"
   ]
  },
  {
   "cell_type": "markdown",
   "id": "2f7df864",
   "metadata": {},
   "source": [
    "Отсортируем данные не только по сумме продаж, но и по их количеству:"
   ]
  },
  {
   "cell_type": "code",
   "execution_count": 131,
   "id": "71803f0a",
   "metadata": {},
   "outputs": [
    {
     "data": {
      "text/html": [
       "<div>\n",
       "<style scoped>\n",
       "    .dataframe tbody tr th:only-of-type {\n",
       "        vertical-align: middle;\n",
       "    }\n",
       "\n",
       "    .dataframe tbody tr th {\n",
       "        vertical-align: top;\n",
       "    }\n",
       "\n",
       "    .dataframe thead th {\n",
       "        text-align: right;\n",
       "    }\n",
       "</style>\n",
       "<table border=\"1\" class=\"dataframe\">\n",
       "  <thead>\n",
       "    <tr style=\"text-align: right;\">\n",
       "      <th></th>\n",
       "      <th>ID</th>\n",
       "      <th>Education</th>\n",
       "      <th>Marital_Status</th>\n",
       "      <th>Income</th>\n",
       "      <th>Kidhome</th>\n",
       "      <th>Teenhome</th>\n",
       "      <th>Recency</th>\n",
       "      <th>AcceptedCmp3</th>\n",
       "      <th>AcceptedCmp4</th>\n",
       "      <th>AcceptedCmp5</th>\n",
       "      <th>AcceptedCmp1</th>\n",
       "      <th>AcceptedCmp2</th>\n",
       "      <th>Complain</th>\n",
       "      <th>Response</th>\n",
       "      <th>Sales</th>\n",
       "      <th>Age</th>\n",
       "      <th>Purchases</th>\n",
       "    </tr>\n",
       "  </thead>\n",
       "  <tbody>\n",
       "    <tr>\n",
       "      <th>655</th>\n",
       "      <td>5555</td>\n",
       "      <td>Graduation</td>\n",
       "      <td>Divorced</td>\n",
       "      <td>153924.0</td>\n",
       "      <td>0</td>\n",
       "      <td>0</td>\n",
       "      <td>81</td>\n",
       "      <td>0</td>\n",
       "      <td>0</td>\n",
       "      <td>0</td>\n",
       "      <td>0</td>\n",
       "      <td>0</td>\n",
       "      <td>0</td>\n",
       "      <td>0</td>\n",
       "      <td>6</td>\n",
       "      <td>47</td>\n",
       "      <td>0</td>\n",
       "    </tr>\n",
       "    <tr>\n",
       "      <th>2132</th>\n",
       "      <td>11181</td>\n",
       "      <td>PhD</td>\n",
       "      <td>Married</td>\n",
       "      <td>156924.0</td>\n",
       "      <td>0</td>\n",
       "      <td>0</td>\n",
       "      <td>85</td>\n",
       "      <td>0</td>\n",
       "      <td>0</td>\n",
       "      <td>0</td>\n",
       "      <td>0</td>\n",
       "      <td>0</td>\n",
       "      <td>0</td>\n",
       "      <td>0</td>\n",
       "      <td>8</td>\n",
       "      <td>73</td>\n",
       "      <td>0</td>\n",
       "    </tr>\n",
       "    <tr>\n",
       "      <th>2228</th>\n",
       "      <td>8720</td>\n",
       "      <td>2n Cycle</td>\n",
       "      <td>Together</td>\n",
       "      <td>NaN</td>\n",
       "      <td>0</td>\n",
       "      <td>0</td>\n",
       "      <td>53</td>\n",
       "      <td>0</td>\n",
       "      <td>1</td>\n",
       "      <td>0</td>\n",
       "      <td>0</td>\n",
       "      <td>0</td>\n",
       "      <td>0</td>\n",
       "      <td>0</td>\n",
       "      <td>1679</td>\n",
       "      <td>44</td>\n",
       "      <td>1</td>\n",
       "    </tr>\n",
       "    <tr>\n",
       "      <th>617</th>\n",
       "      <td>1503</td>\n",
       "      <td>PhD</td>\n",
       "      <td>Together</td>\n",
       "      <td>162397.0</td>\n",
       "      <td>1</td>\n",
       "      <td>1</td>\n",
       "      <td>31</td>\n",
       "      <td>0</td>\n",
       "      <td>0</td>\n",
       "      <td>0</td>\n",
       "      <td>0</td>\n",
       "      <td>0</td>\n",
       "      <td>0</td>\n",
       "      <td>0</td>\n",
       "      <td>107</td>\n",
       "      <td>46</td>\n",
       "      <td>2</td>\n",
       "    </tr>\n",
       "    <tr>\n",
       "      <th>1300</th>\n",
       "      <td>5336</td>\n",
       "      <td>Master</td>\n",
       "      <td>Together</td>\n",
       "      <td>157733.0</td>\n",
       "      <td>1</td>\n",
       "      <td>0</td>\n",
       "      <td>37</td>\n",
       "      <td>0</td>\n",
       "      <td>0</td>\n",
       "      <td>0</td>\n",
       "      <td>0</td>\n",
       "      <td>0</td>\n",
       "      <td>0</td>\n",
       "      <td>0</td>\n",
       "      <td>59</td>\n",
       "      <td>51</td>\n",
       "      <td>3</td>\n",
       "    </tr>\n",
       "    <tr>\n",
       "      <th>...</th>\n",
       "      <td>...</td>\n",
       "      <td>...</td>\n",
       "      <td>...</td>\n",
       "      <td>...</td>\n",
       "      <td>...</td>\n",
       "      <td>...</td>\n",
       "      <td>...</td>\n",
       "      <td>...</td>\n",
       "      <td>...</td>\n",
       "      <td>...</td>\n",
       "      <td>...</td>\n",
       "      <td>...</td>\n",
       "      <td>...</td>\n",
       "      <td>...</td>\n",
       "      <td>...</td>\n",
       "      <td>...</td>\n",
       "      <td>...</td>\n",
       "    </tr>\n",
       "    <tr>\n",
       "      <th>412</th>\n",
       "      <td>7030</td>\n",
       "      <td>PhD</td>\n",
       "      <td>Married</td>\n",
       "      <td>66465.0</td>\n",
       "      <td>0</td>\n",
       "      <td>1</td>\n",
       "      <td>1</td>\n",
       "      <td>0</td>\n",
       "      <td>0</td>\n",
       "      <td>0</td>\n",
       "      <td>1</td>\n",
       "      <td>0</td>\n",
       "      <td>0</td>\n",
       "      <td>0</td>\n",
       "      <td>1485</td>\n",
       "      <td>67</td>\n",
       "      <td>41</td>\n",
       "    </tr>\n",
       "    <tr>\n",
       "      <th>627</th>\n",
       "      <td>4299</td>\n",
       "      <td>Graduation</td>\n",
       "      <td>Together</td>\n",
       "      <td>70971.0</td>\n",
       "      <td>0</td>\n",
       "      <td>1</td>\n",
       "      <td>28</td>\n",
       "      <td>0</td>\n",
       "      <td>0</td>\n",
       "      <td>0</td>\n",
       "      <td>0</td>\n",
       "      <td>0</td>\n",
       "      <td>0</td>\n",
       "      <td>1</td>\n",
       "      <td>1825</td>\n",
       "      <td>62</td>\n",
       "      <td>41</td>\n",
       "    </tr>\n",
       "    <tr>\n",
       "      <th>687</th>\n",
       "      <td>1501</td>\n",
       "      <td>PhD</td>\n",
       "      <td>Married</td>\n",
       "      <td>160803.0</td>\n",
       "      <td>0</td>\n",
       "      <td>0</td>\n",
       "      <td>21</td>\n",
       "      <td>0</td>\n",
       "      <td>0</td>\n",
       "      <td>0</td>\n",
       "      <td>0</td>\n",
       "      <td>0</td>\n",
       "      <td>0</td>\n",
       "      <td>0</td>\n",
       "      <td>1717</td>\n",
       "      <td>40</td>\n",
       "      <td>44</td>\n",
       "    </tr>\n",
       "    <tr>\n",
       "      <th>21</th>\n",
       "      <td>5376</td>\n",
       "      <td>Graduation</td>\n",
       "      <td>Married</td>\n",
       "      <td>2447.0</td>\n",
       "      <td>1</td>\n",
       "      <td>0</td>\n",
       "      <td>42</td>\n",
       "      <td>0</td>\n",
       "      <td>0</td>\n",
       "      <td>0</td>\n",
       "      <td>0</td>\n",
       "      <td>0</td>\n",
       "      <td>0</td>\n",
       "      <td>0</td>\n",
       "      <td>1730</td>\n",
       "      <td>43</td>\n",
       "      <td>44</td>\n",
       "    </tr>\n",
       "    <tr>\n",
       "      <th>432</th>\n",
       "      <td>238</td>\n",
       "      <td>2n Cycle</td>\n",
       "      <td>Together</td>\n",
       "      <td>67309.0</td>\n",
       "      <td>1</td>\n",
       "      <td>1</td>\n",
       "      <td>76</td>\n",
       "      <td>0</td>\n",
       "      <td>0</td>\n",
       "      <td>0</td>\n",
       "      <td>0</td>\n",
       "      <td>0</td>\n",
       "      <td>0</td>\n",
       "      <td>0</td>\n",
       "      <td>1082</td>\n",
       "      <td>55</td>\n",
       "      <td>46</td>\n",
       "    </tr>\n",
       "  </tbody>\n",
       "</table>\n",
       "<p>2240 rows × 17 columns</p>\n",
       "</div>"
      ],
      "text/plain": [
       "         ID   Education Marital_Status    Income  Kidhome  Teenhome  Recency  \\\n",
       "655    5555  Graduation       Divorced  153924.0        0         0       81   \n",
       "2132  11181         PhD        Married  156924.0        0         0       85   \n",
       "2228   8720    2n Cycle       Together       NaN        0         0       53   \n",
       "617    1503         PhD       Together  162397.0        1         1       31   \n",
       "1300   5336      Master       Together  157733.0        1         0       37   \n",
       "...     ...         ...            ...       ...      ...       ...      ...   \n",
       "412    7030         PhD        Married   66465.0        0         1        1   \n",
       "627    4299  Graduation       Together   70971.0        0         1       28   \n",
       "687    1501         PhD        Married  160803.0        0         0       21   \n",
       "21     5376  Graduation        Married    2447.0        1         0       42   \n",
       "432     238    2n Cycle       Together   67309.0        1         1       76   \n",
       "\n",
       "      AcceptedCmp3  AcceptedCmp4  AcceptedCmp5  AcceptedCmp1  AcceptedCmp2  \\\n",
       "655              0             0             0             0             0   \n",
       "2132             0             0             0             0             0   \n",
       "2228             0             1             0             0             0   \n",
       "617              0             0             0             0             0   \n",
       "1300             0             0             0             0             0   \n",
       "...            ...           ...           ...           ...           ...   \n",
       "412              0             0             0             1             0   \n",
       "627              0             0             0             0             0   \n",
       "687              0             0             0             0             0   \n",
       "21               0             0             0             0             0   \n",
       "432              0             0             0             0             0   \n",
       "\n",
       "      Complain  Response  Sales  Age  Purchases  \n",
       "655          0         0      6   47          0  \n",
       "2132         0         0      8   73          0  \n",
       "2228         0         0   1679   44          1  \n",
       "617          0         0    107   46          2  \n",
       "1300         0         0     59   51          3  \n",
       "...        ...       ...    ...  ...        ...  \n",
       "412          0         0   1485   67         41  \n",
       "627          0         1   1825   62         41  \n",
       "687          0         0   1717   40         44  \n",
       "21           0         0   1730   43         44  \n",
       "432          0         0   1082   55         46  \n",
       "\n",
       "[2240 rows x 17 columns]"
      ]
     },
     "execution_count": 131,
     "metadata": {},
     "output_type": "execute_result"
    }
   ],
   "source": [
    "df.sort_values(by = ['Purchases', 'Sales'])"
   ]
  },
  {
   "cell_type": "markdown",
   "id": "d807112e",
   "metadata": {},
   "source": [
    "В данных мы имеем две перемнные, которые определяют наличие детей и подростков в домохозяйстве. Так как для исследования важно само наличие детей и подростков в домохозяйстве, то я переделяю данные переменные *Kidhome* и *Teenhome* в бинарные, где 1 - в семье есть хотя бы 1 ребенок/подросток, и 0 в противном случае.  \n",
    "Для этого воспользуемся анонимной функцией lambda"
   ]
  },
  {
   "cell_type": "code",
   "execution_count": 133,
   "id": "88d9f688",
   "metadata": {},
   "outputs": [],
   "source": [
    "df['Kidhome'] = df['Kidhome'].apply(lambda x: 0 if x == 0 else 1)"
   ]
  },
  {
   "cell_type": "code",
   "execution_count": 134,
   "id": "d62a4de7",
   "metadata": {},
   "outputs": [],
   "source": [
    "df['Teenhome'] = df['Teenhome'].apply(lambda x: 0 if x == 0 else 1)"
   ]
  },
  {
   "cell_type": "markdown",
   "id": "cd049aba",
   "metadata": {},
   "source": [
    "Для работы с переменными Education и Marital_Status необходимо перевести их в численное значение. Для этого создадим из них категориальные переменные с помощью функции pandas"
   ]
  },
  {
   "cell_type": "code",
   "execution_count": 136,
   "id": "09cb602f",
   "metadata": {},
   "outputs": [],
   "source": [
    "df['Education'] = pd.Categorical(df['Education'])"
   ]
  },
  {
   "cell_type": "code",
   "execution_count": 146,
   "id": "babf4b0f",
   "metadata": {
    "scrolled": true
   },
   "outputs": [
    {
     "data": {
      "text/plain": [
       "Education\n",
       "2n Cycle       203\n",
       "Basic           54\n",
       "Graduation    1127\n",
       "Master         370\n",
       "PhD            486\n",
       "dtype: int64"
      ]
     },
     "execution_count": 146,
     "metadata": {},
     "output_type": "execute_result"
    }
   ],
   "source": [
    "df.groupby('Education').size()"
   ]
  },
  {
   "cell_type": "markdown",
   "id": "aca4ac8a",
   "metadata": {},
   "source": [
    "Соответсвие значений категориальной переменной образование (так как функция groupby выводит значения в порядке возрастания индекса)  \n",
    "Education == 0 (2n Cycle)  \n",
    "Education == 1 (Basic)  \n",
    "Education == 2 (Graduation)  \n",
    "Education == 3 (Master)  \n",
    "Education == 4 (PhD)  "
   ]
  },
  {
   "cell_type": "code",
   "execution_count": 147,
   "id": "2d18dd9a",
   "metadata": {},
   "outputs": [],
   "source": [
    "df['Marital_Status'] = pd.Categorical(df['Marital_Status'])"
   ]
  },
  {
   "cell_type": "code",
   "execution_count": 148,
   "id": "54834229",
   "metadata": {
    "scrolled": true
   },
   "outputs": [
    {
     "data": {
      "text/plain": [
       "Marital_Status\n",
       "Absurd        2\n",
       "Alone         3\n",
       "Divorced    232\n",
       "Married     864\n",
       "Single      480\n",
       "Together    580\n",
       "Widow        77\n",
       "YOLO          2\n",
       "dtype: int64"
      ]
     },
     "execution_count": 148,
     "metadata": {},
     "output_type": "execute_result"
    }
   ],
   "source": [
    "df.groupby('Marital_Status').size()"
   ]
  },
  {
   "cell_type": "markdown",
   "id": "78e56051",
   "metadata": {},
   "source": [
    "Соответсвие значений категориальной переменной семейного положения (так как функция groupby выводит значения в порядке возрастания индекса)  \n",
    "Marital_Status == 0 (Absurd)  \n",
    "Marital_Status == 1 (Alone)  \n",
    "Marital_Status == 2 (Divorced)  \n",
    "Marital_Status == 3 (Married)  \n",
    "Marital_Status == 4 (Single)  \n",
    "Marital_Status == 5 (Together)  \n",
    "Marital_Status == 6 (Widow)  \n",
    "Marital_Status == 7 (YOLO)"
   ]
  },
  {
   "cell_type": "markdown",
   "id": "1a1cf91b",
   "metadata": {},
   "source": [
    "Мы имеем 6 бинарных переменных, которые показывают, принял ли клиент предложение с 1 по 6 маркетинговые компании.  \n",
    "Для исследования важна информация, принял ли клиент предложение или нет (мы не имеем подробной информации о проводимых маркетинговых кампаниях, поэтому нам важен лишь факт, подействовала ли промо акция на действия клиента или нет).  \n",
    "Эта переменная будет показывать, можно ли воздействовать на потенциального клиента с помощью маркетинговых кампаний. Если это возможно, то можно назвать такого клиента более \"идеальным\" с точки зрения компании.  \n",
    "Для того, чтобы создать описанную выше переменную, я сложу все переменные продвижения и далее с помощью ананимной функции создам новую бинарную переменную **Easy_promo**, принимающую значение 1, если клиент хотя бы раз принял предложение кампании, и 0 в противном случае."
   ]
  },
  {
   "cell_type": "code",
   "execution_count": null,
   "id": "73b22e54",
   "metadata": {},
   "outputs": [],
   "source": [
    "df['Easy_promo'] = df['AcceptedCmp1'] + df['AcceptedCmp2'] + df['AcceptedCmp3'] + df['AcceptedCmp4'] + df['AcceptedCmp5'] + df['Response']"
   ]
  },
  {
   "cell_type": "code",
   "execution_count": 422,
   "id": "1d879cb8",
   "metadata": {},
   "outputs": [],
   "source": [
    "def Easy_promo_bi(Easy_promo):\n",
    "    if Easy_promo == 0:\n",
    "        return Easy_promo_bi == 0\n",
    "    else:\n",
    "        return Easy_promo_bi == 1\n",
    "df['Easy_promo'] = df['Easy_promo'].apply(Easy_promo_bi)"
   ]
  },
  {
   "cell_type": "code",
   "execution_count": 423,
   "id": "c3cef7d1",
   "metadata": {},
   "outputs": [
    {
     "data": {
      "text/html": [
       "<div>\n",
       "<style scoped>\n",
       "    .dataframe tbody tr th:only-of-type {\n",
       "        vertical-align: middle;\n",
       "    }\n",
       "\n",
       "    .dataframe tbody tr th {\n",
       "        vertical-align: top;\n",
       "    }\n",
       "\n",
       "    .dataframe thead th {\n",
       "        text-align: right;\n",
       "    }\n",
       "</style>\n",
       "<table border=\"1\" class=\"dataframe\">\n",
       "  <thead>\n",
       "    <tr style=\"text-align: right;\">\n",
       "      <th></th>\n",
       "      <th>ID</th>\n",
       "      <th>Education</th>\n",
       "      <th>Marital_Status</th>\n",
       "      <th>Income</th>\n",
       "      <th>Kidhome</th>\n",
       "      <th>Teenhome</th>\n",
       "      <th>Recency</th>\n",
       "      <th>Complain</th>\n",
       "      <th>Sales</th>\n",
       "      <th>Age</th>\n",
       "      <th>Purchases</th>\n",
       "      <th>Easy_promo</th>\n",
       "      <th>log_Income</th>\n",
       "      <th>Purchases_Category</th>\n",
       "    </tr>\n",
       "  </thead>\n",
       "  <tbody>\n",
       "    <tr>\n",
       "      <th>0</th>\n",
       "      <td>5524</td>\n",
       "      <td>Graduation</td>\n",
       "      <td>Single</td>\n",
       "      <td>58138.0</td>\n",
       "      <td>0</td>\n",
       "      <td>0</td>\n",
       "      <td>58</td>\n",
       "      <td>0</td>\n",
       "      <td>1617</td>\n",
       "      <td>65</td>\n",
       "      <td>32</td>\n",
       "      <td>False</td>\n",
       "      <td>10.970575</td>\n",
       "      <td>High</td>\n",
       "    </tr>\n",
       "    <tr>\n",
       "      <th>1</th>\n",
       "      <td>2174</td>\n",
       "      <td>Graduation</td>\n",
       "      <td>Single</td>\n",
       "      <td>46344.0</td>\n",
       "      <td>1</td>\n",
       "      <td>1</td>\n",
       "      <td>38</td>\n",
       "      <td>0</td>\n",
       "      <td>27</td>\n",
       "      <td>68</td>\n",
       "      <td>11</td>\n",
       "      <td>False</td>\n",
       "      <td>10.743847</td>\n",
       "      <td>Low</td>\n",
       "    </tr>\n",
       "    <tr>\n",
       "      <th>2</th>\n",
       "      <td>4141</td>\n",
       "      <td>Graduation</td>\n",
       "      <td>Together</td>\n",
       "      <td>71613.0</td>\n",
       "      <td>0</td>\n",
       "      <td>0</td>\n",
       "      <td>26</td>\n",
       "      <td>0</td>\n",
       "      <td>776</td>\n",
       "      <td>57</td>\n",
       "      <td>25</td>\n",
       "      <td>False</td>\n",
       "      <td>11.179032</td>\n",
       "      <td>Normal</td>\n",
       "    </tr>\n",
       "    <tr>\n",
       "      <th>3</th>\n",
       "      <td>6182</td>\n",
       "      <td>Graduation</td>\n",
       "      <td>Together</td>\n",
       "      <td>26646.0</td>\n",
       "      <td>1</td>\n",
       "      <td>0</td>\n",
       "      <td>26</td>\n",
       "      <td>0</td>\n",
       "      <td>53</td>\n",
       "      <td>38</td>\n",
       "      <td>14</td>\n",
       "      <td>False</td>\n",
       "      <td>10.190394</td>\n",
       "      <td>Low</td>\n",
       "    </tr>\n",
       "    <tr>\n",
       "      <th>4</th>\n",
       "      <td>5324</td>\n",
       "      <td>PhD</td>\n",
       "      <td>Married</td>\n",
       "      <td>58293.0</td>\n",
       "      <td>1</td>\n",
       "      <td>0</td>\n",
       "      <td>94</td>\n",
       "      <td>0</td>\n",
       "      <td>422</td>\n",
       "      <td>41</td>\n",
       "      <td>24</td>\n",
       "      <td>False</td>\n",
       "      <td>10.973237</td>\n",
       "      <td>Normal</td>\n",
       "    </tr>\n",
       "  </tbody>\n",
       "</table>\n",
       "</div>"
      ],
      "text/plain": [
       "     ID   Education Marital_Status   Income  Kidhome  Teenhome  Recency  \\\n",
       "0  5524  Graduation         Single  58138.0        0         0       58   \n",
       "1  2174  Graduation         Single  46344.0        1         1       38   \n",
       "2  4141  Graduation       Together  71613.0        0         0       26   \n",
       "3  6182  Graduation       Together  26646.0        1         0       26   \n",
       "4  5324         PhD        Married  58293.0        1         0       94   \n",
       "\n",
       "   Complain  Sales  Age  Purchases  Easy_promo  log_Income Purchases_Category  \n",
       "0         0   1617   65         32       False   10.970575               High  \n",
       "1         0     27   68         11       False   10.743847                Low  \n",
       "2         0    776   57         25       False   11.179032             Normal  \n",
       "3         0     53   38         14       False   10.190394                Low  \n",
       "4         0    422   41         24       False   10.973237             Normal  "
      ]
     },
     "execution_count": 423,
     "metadata": {},
     "output_type": "execute_result"
    }
   ],
   "source": [
    "df.head()"
   ]
  },
  {
   "cell_type": "code",
   "execution_count": 154,
   "id": "420acd92",
   "metadata": {},
   "outputs": [],
   "source": [
    "del df['AcceptedCmp1']\n",
    "del df['AcceptedCmp2']\n",
    "del df['AcceptedCmp3']\n",
    "del df['AcceptedCmp4']\n",
    "del df['AcceptedCmp5']\n",
    "del df['Response']"
   ]
  },
  {
   "cell_type": "code",
   "execution_count": 198,
   "id": "1d4f1788",
   "metadata": {
    "scrolled": true
   },
   "outputs": [
    {
     "name": "stdout",
     "output_type": "stream",
     "text": [
      "46\n"
     ]
    }
   ],
   "source": [
    "print(np.max(df['Purchases']))"
   ]
  },
  {
   "cell_type": "code",
   "execution_count": 200,
   "id": "d3df1773",
   "metadata": {},
   "outputs": [],
   "source": [
    "def Purchases_category(Purchases):\n",
    "    if Purchases <= 15:\n",
    "        return 'Low'\n",
    "    elif Purchases >= 30:\n",
    "        return 'High'\n",
    "    else:\n",
    "        return 'Normal'"
   ]
  },
  {
   "cell_type": "markdown",
   "id": "dcd52048",
   "metadata": {},
   "source": [
    "Описание значений категорий количества покупок:  \n",
    "**Low** - реже, чем раз в 2 месяца  \n",
    "**Norm** - приблизительно 1 раз в месяц  \n",
    "**High** - чаще, чем 1 раз в месяц "
   ]
  },
  {
   "cell_type": "code",
   "execution_count": 201,
   "id": "39250f2b",
   "metadata": {
    "scrolled": true
   },
   "outputs": [
    {
     "data": {
      "text/plain": [
       "0         High\n",
       "1          Low\n",
       "2       Normal\n",
       "3          Low\n",
       "4       Normal\n",
       "         ...  \n",
       "2235    Normal\n",
       "2236    Normal\n",
       "2237    Normal\n",
       "2238    Normal\n",
       "2239    Normal\n",
       "Name: Purchases, Length: 2240, dtype: object"
      ]
     },
     "execution_count": 201,
     "metadata": {},
     "output_type": "execute_result"
    }
   ],
   "source": [
    "df['Purchases'].apply(Purchases_category)"
   ]
  },
  {
   "cell_type": "code",
   "execution_count": 202,
   "id": "292faaf8",
   "metadata": {},
   "outputs": [],
   "source": [
    "df['Purchases_Category'] = df['Purchases'].apply(Purchases_category)"
   ]
  },
  {
   "cell_type": "code",
   "execution_count": 203,
   "id": "57d488da",
   "metadata": {},
   "outputs": [],
   "source": [
    "df['Purchases_Category'] = pd.Categorical(df['Purchases_Category'])"
   ]
  },
  {
   "cell_type": "markdown",
   "id": "90c26d10",
   "metadata": {},
   "source": [
    "Последним преобразованием в датасете будет добавление переменной логарифма доходов покупателей, чтобы при анализе использовать нормализованные значения, а не абсолютные. Для этого воспользуемся функцией log библиотеки numpy. Будет использоваться натуральный логарифм."
   ]
  },
  {
   "cell_type": "code",
   "execution_count": 157,
   "id": "447eb706",
   "metadata": {},
   "outputs": [],
   "source": [
    "df['log_Income'] = np.log(df['Income'])"
   ]
  },
  {
   "cell_type": "code",
   "execution_count": 379,
   "id": "6e4646b7",
   "metadata": {},
   "outputs": [
    {
     "data": {
      "text/plain": [
       "<AxesSubplot:>"
      ]
     },
     "execution_count": 379,
     "metadata": {},
     "output_type": "execute_result"
    },
    {
     "data": {
      "image/png": "[encoded data removed]",
      "text/plain": [
       "<Figure size 432x288 with 1 Axes>"
      ]
     },
     "metadata": {
      "needs_background": "light"
     },
     "output_type": "display_data"
    }
   ],
   "source": [
    "df['Income'].hist(bins=100, color='blue')"
   ]
  },
  {
   "cell_type": "code",
   "execution_count": 378,
   "id": "adf56fdb",
   "metadata": {
    "scrolled": true
   },
   "outputs": [
    {
     "data": {
      "text/plain": [
       "<AxesSubplot:>"
      ]
     },
     "execution_count": 378,
     "metadata": {},
     "output_type": "execute_result"
    },
    {
     "data": {
      "image/png": "[encoded data removed]",
      "text/plain": [
       "<Figure size 432x288 with 1 Axes>"
      ]
     },
     "metadata": {
      "needs_background": "light"
     },
     "output_type": "display_data"
    }
   ],
   "source": [
    "df['log_Income'].hist(bins=100, color='blue')"
   ]
  },
  {
   "cell_type": "markdown",
   "id": "0b9ad1e4",
   "metadata": {},
   "source": [
    "На гистограммах можно заметить, что распределение переменной логарифма доходов больше подходит для Гауссовского распределения. При построении логарифмических и полулогарифмических регрессий коэффициенты будут показывать влиение не в абсолютном значении, а в процентном, что более показательно. "
   ]
  },
  {
   "cell_type": "code",
   "execution_count": 188,
   "id": "eda3e5cd",
   "metadata": {
    "scrolled": true
   },
   "outputs": [
    {
     "data": {
      "text/html": [
       "<div>\n",
       "<style scoped>\n",
       "    .dataframe tbody tr th:only-of-type {\n",
       "        vertical-align: middle;\n",
       "    }\n",
       "\n",
       "    .dataframe tbody tr th {\n",
       "        vertical-align: top;\n",
       "    }\n",
       "\n",
       "    .dataframe thead th {\n",
       "        text-align: right;\n",
       "    }\n",
       "</style>\n",
       "<table border=\"1\" class=\"dataframe\">\n",
       "  <thead>\n",
       "    <tr style=\"text-align: right;\">\n",
       "      <th></th>\n",
       "      <th>ID</th>\n",
       "      <th>Education</th>\n",
       "      <th>Marital_Status</th>\n",
       "      <th>Income</th>\n",
       "      <th>Kidhome</th>\n",
       "      <th>Teenhome</th>\n",
       "      <th>Recency</th>\n",
       "      <th>Complain</th>\n",
       "      <th>Sales</th>\n",
       "      <th>Age</th>\n",
       "      <th>Purchases</th>\n",
       "      <th>Easy_promo</th>\n",
       "      <th>log_Income</th>\n",
       "      <th>Purchases_Category</th>\n",
       "    </tr>\n",
       "  </thead>\n",
       "  <tbody>\n",
       "    <tr>\n",
       "      <th>0</th>\n",
       "      <td>5524</td>\n",
       "      <td>Graduation</td>\n",
       "      <td>Single</td>\n",
       "      <td>58138.0</td>\n",
       "      <td>0</td>\n",
       "      <td>0</td>\n",
       "      <td>58</td>\n",
       "      <td>0</td>\n",
       "      <td>1617</td>\n",
       "      <td>65</td>\n",
       "      <td>32</td>\n",
       "      <td>1</td>\n",
       "      <td>10.970575</td>\n",
       "      <td>Normal</td>\n",
       "    </tr>\n",
       "    <tr>\n",
       "      <th>1</th>\n",
       "      <td>2174</td>\n",
       "      <td>Graduation</td>\n",
       "      <td>Single</td>\n",
       "      <td>46344.0</td>\n",
       "      <td>1</td>\n",
       "      <td>1</td>\n",
       "      <td>38</td>\n",
       "      <td>0</td>\n",
       "      <td>27</td>\n",
       "      <td>68</td>\n",
       "      <td>11</td>\n",
       "      <td>0</td>\n",
       "      <td>10.743847</td>\n",
       "      <td>Low</td>\n",
       "    </tr>\n",
       "    <tr>\n",
       "      <th>2</th>\n",
       "      <td>4141</td>\n",
       "      <td>Graduation</td>\n",
       "      <td>Together</td>\n",
       "      <td>71613.0</td>\n",
       "      <td>0</td>\n",
       "      <td>0</td>\n",
       "      <td>26</td>\n",
       "      <td>0</td>\n",
       "      <td>776</td>\n",
       "      <td>57</td>\n",
       "      <td>25</td>\n",
       "      <td>0</td>\n",
       "      <td>11.179032</td>\n",
       "      <td>Normal</td>\n",
       "    </tr>\n",
       "    <tr>\n",
       "      <th>3</th>\n",
       "      <td>6182</td>\n",
       "      <td>Graduation</td>\n",
       "      <td>Together</td>\n",
       "      <td>26646.0</td>\n",
       "      <td>1</td>\n",
       "      <td>0</td>\n",
       "      <td>26</td>\n",
       "      <td>0</td>\n",
       "      <td>53</td>\n",
       "      <td>38</td>\n",
       "      <td>14</td>\n",
       "      <td>0</td>\n",
       "      <td>10.190394</td>\n",
       "      <td>Low</td>\n",
       "    </tr>\n",
       "    <tr>\n",
       "      <th>4</th>\n",
       "      <td>5324</td>\n",
       "      <td>PhD</td>\n",
       "      <td>Married</td>\n",
       "      <td>58293.0</td>\n",
       "      <td>1</td>\n",
       "      <td>0</td>\n",
       "      <td>94</td>\n",
       "      <td>0</td>\n",
       "      <td>422</td>\n",
       "      <td>41</td>\n",
       "      <td>24</td>\n",
       "      <td>0</td>\n",
       "      <td>10.973237</td>\n",
       "      <td>Normal</td>\n",
       "    </tr>\n",
       "  </tbody>\n",
       "</table>\n",
       "</div>"
      ],
      "text/plain": [
       "     ID   Education Marital_Status   Income  Kidhome  Teenhome  Recency  \\\n",
       "0  5524  Graduation         Single  58138.0        0         0       58   \n",
       "1  2174  Graduation         Single  46344.0        1         1       38   \n",
       "2  4141  Graduation       Together  71613.0        0         0       26   \n",
       "3  6182  Graduation       Together  26646.0        1         0       26   \n",
       "4  5324         PhD        Married  58293.0        1         0       94   \n",
       "\n",
       "   Complain  Sales  Age  Purchases  Easy_promo  log_Income Purchases_Category  \n",
       "0         0   1617   65         32           1   10.970575             Normal  \n",
       "1         0     27   68         11           0   10.743847                Low  \n",
       "2         0    776   57         25           0   11.179032             Normal  \n",
       "3         0     53   38         14           0   10.190394                Low  \n",
       "4         0    422   41         24           0   10.973237             Normal  "
      ]
     },
     "execution_count": 188,
     "metadata": {},
     "output_type": "execute_result"
    }
   ],
   "source": [
    "df.head()"
   ]
  },
  {
   "cell_type": "markdown",
   "id": "25b37679",
   "metadata": {},
   "source": [
    "Для наглядности посмотрим на простую визуализацию распределения частот значений описательных переменных."
   ]
  },
  {
   "cell_type": "markdown",
   "id": "4b302771",
   "metadata": {},
   "source": [
    "1. Распределение переменной Образования "
   ]
  },
  {
   "cell_type": "code",
   "execution_count": 377,
   "id": "d5f44c2c",
   "metadata": {
    "scrolled": true
   },
   "outputs": [
    {
     "data": {
      "text/plain": [
       "<AxesSubplot:>"
      ]
     },
     "execution_count": 377,
     "metadata": {},
     "output_type": "execute_result"
    },
    {
     "data": {
      "image/png": "[encoded data removed]",
      "text/plain": [
       "<Figure size 432x288 with 1 Axes>"
      ]
     },
     "metadata": {
      "needs_background": "light"
     },
     "output_type": "display_data"
    }
   ],
   "source": [
    "df['Education'].value_counts().plot(kind='bar', color='blue')"
   ]
  },
  {
   "cell_type": "code",
   "execution_count": 446,
   "id": "ab18f15d",
   "metadata": {
    "scrolled": true
   },
   "outputs": [
    {
     "data": {
      "text/plain": [
       "count           2240\n",
       "unique             5\n",
       "top       Graduation\n",
       "freq            1127\n",
       "Name: Education, dtype: object"
      ]
     },
     "execution_count": 446,
     "metadata": {},
     "output_type": "execute_result"
    }
   ],
   "source": [
    "df['Education'].describe()"
   ]
  },
  {
   "cell_type": "markdown",
   "id": "bd261b78",
   "metadata": {},
   "source": [
    "2. Распределение переменной Семейного положения "
   ]
  },
  {
   "cell_type": "code",
   "execution_count": 376,
   "id": "efb22785",
   "metadata": {},
   "outputs": [
    {
     "data": {
      "text/plain": [
       "<AxesSubplot:>"
      ]
     },
     "execution_count": 376,
     "metadata": {},
     "output_type": "execute_result"
    },
    {
     "data": {
      "image/png": "[encoded data removed]",
      "text/plain": [
       "<Figure size 432x288 with 1 Axes>"
      ]
     },
     "metadata": {
      "needs_background": "light"
     },
     "output_type": "display_data"
    }
   ],
   "source": [
    "df['Marital_Status'].value_counts().plot(kind='bar', color='blue')"
   ]
  },
  {
   "cell_type": "code",
   "execution_count": 447,
   "id": "a648b6af",
   "metadata": {},
   "outputs": [
    {
     "data": {
      "text/plain": [
       "count        2240\n",
       "unique          8\n",
       "top       Married\n",
       "freq          864\n",
       "Name: Marital_Status, dtype: object"
      ]
     },
     "execution_count": 447,
     "metadata": {},
     "output_type": "execute_result"
    }
   ],
   "source": [
    "df['Marital_Status'].describe()"
   ]
  },
  {
   "cell_type": "markdown",
   "id": "473b6a12",
   "metadata": {},
   "source": [
    "3.1. Распределение переменной Продаж "
   ]
  },
  {
   "cell_type": "code",
   "execution_count": 374,
   "id": "e5b151ad",
   "metadata": {},
   "outputs": [
    {
     "data": {
      "text/plain": [
       "<AxesSubplot:>"
      ]
     },
     "execution_count": 374,
     "metadata": {},
     "output_type": "execute_result"
    },
    {
     "data": {
      "image/png": "[encoded data removed]",
      "text/plain": [
       "<Figure size 432x288 with 1 Axes>"
      ]
     },
     "metadata": {
      "needs_background": "light"
     },
     "output_type": "display_data"
    }
   ],
   "source": [
    "df['Sales'].hist(color='blue')"
   ]
  },
  {
   "cell_type": "code",
   "execution_count": 449,
   "id": "925b0ea6",
   "metadata": {
    "scrolled": true
   },
   "outputs": [
    {
     "data": {
      "text/plain": [
       "count    2240.000000\n",
       "mean      605.798214\n",
       "std       602.249288\n",
       "min         5.000000\n",
       "25%        68.750000\n",
       "50%       396.000000\n",
       "75%      1045.500000\n",
       "max      2525.000000\n",
       "Name: Sales, dtype: float64"
      ]
     },
     "execution_count": 449,
     "metadata": {},
     "output_type": "execute_result"
    }
   ],
   "source": [
    "df['Sales'].describe()"
   ]
  },
  {
   "cell_type": "markdown",
   "id": "b3e785bc",
   "metadata": {},
   "source": [
    "3.2. Распределение переменной Логарифма Продаж "
   ]
  },
  {
   "cell_type": "code",
   "execution_count": 375,
   "id": "d1d6356a",
   "metadata": {},
   "outputs": [
    {
     "data": {
      "text/plain": [
       "<AxesSubplot:>"
      ]
     },
     "execution_count": 375,
     "metadata": {},
     "output_type": "execute_result"
    },
    {
     "data": {
      "image/png": "[encoded data removed]",
      "text/plain": [
       "<Figure size 432x288 with 1 Axes>"
      ]
     },
     "metadata": {
      "needs_background": "light"
     },
     "output_type": "display_data"
    }
   ],
   "source": [
    "np.log(df['Sales']).hist(color='blue')"
   ]
  },
  {
   "cell_type": "markdown",
   "id": "e07296ac",
   "metadata": {},
   "source": [
    "## Дескриптивная статистика:"
   ]
  },
  {
   "cell_type": "code",
   "execution_count": 215,
   "id": "3298c642",
   "metadata": {
    "scrolled": true
   },
   "outputs": [
    {
     "data": {
      "text/html": [
       "<div>\n",
       "<style scoped>\n",
       "    .dataframe tbody tr th:only-of-type {\n",
       "        vertical-align: middle;\n",
       "    }\n",
       "\n",
       "    .dataframe tbody tr th {\n",
       "        vertical-align: top;\n",
       "    }\n",
       "\n",
       "    .dataframe thead th {\n",
       "        text-align: right;\n",
       "    }\n",
       "</style>\n",
       "<table border=\"1\" class=\"dataframe\">\n",
       "  <thead>\n",
       "    <tr style=\"text-align: right;\">\n",
       "      <th></th>\n",
       "      <th>ID</th>\n",
       "      <th>Income</th>\n",
       "      <th>Kidhome</th>\n",
       "      <th>Teenhome</th>\n",
       "      <th>Recency</th>\n",
       "      <th>Complain</th>\n",
       "      <th>Sales</th>\n",
       "      <th>Age</th>\n",
       "      <th>Purchases</th>\n",
       "      <th>Easy_promo</th>\n",
       "      <th>log_Income</th>\n",
       "    </tr>\n",
       "  </thead>\n",
       "  <tbody>\n",
       "    <tr>\n",
       "      <th>count</th>\n",
       "      <td>2240.000000</td>\n",
       "      <td>2216.000000</td>\n",
       "      <td>2240.000000</td>\n",
       "      <td>2240.000000</td>\n",
       "      <td>2240.000000</td>\n",
       "      <td>2240.000000</td>\n",
       "      <td>2240.000000</td>\n",
       "      <td>2240.000000</td>\n",
       "      <td>2240.000000</td>\n",
       "      <td>2240.000000</td>\n",
       "      <td>2216.000000</td>\n",
       "    </tr>\n",
       "    <tr>\n",
       "      <th>mean</th>\n",
       "      <td>5592.159821</td>\n",
       "      <td>52247.251354</td>\n",
       "      <td>0.422768</td>\n",
       "      <td>0.483036</td>\n",
       "      <td>49.109375</td>\n",
       "      <td>0.009375</td>\n",
       "      <td>605.798214</td>\n",
       "      <td>53.194196</td>\n",
       "      <td>20.178571</td>\n",
       "      <td>0.446875</td>\n",
       "      <td>10.753799</td>\n",
       "    </tr>\n",
       "    <tr>\n",
       "      <th>std</th>\n",
       "      <td>3246.662198</td>\n",
       "      <td>25173.076661</td>\n",
       "      <td>0.494109</td>\n",
       "      <td>0.499824</td>\n",
       "      <td>28.962453</td>\n",
       "      <td>0.096391</td>\n",
       "      <td>602.249288</td>\n",
       "      <td>11.984069</td>\n",
       "      <td>7.293275</td>\n",
       "      <td>0.890543</td>\n",
       "      <td>0.505863</td>\n",
       "    </tr>\n",
       "    <tr>\n",
       "      <th>min</th>\n",
       "      <td>0.000000</td>\n",
       "      <td>1730.000000</td>\n",
       "      <td>0.000000</td>\n",
       "      <td>0.000000</td>\n",
       "      <td>0.000000</td>\n",
       "      <td>0.000000</td>\n",
       "      <td>5.000000</td>\n",
       "      <td>26.000000</td>\n",
       "      <td>0.000000</td>\n",
       "      <td>0.000000</td>\n",
       "      <td>7.455877</td>\n",
       "    </tr>\n",
       "    <tr>\n",
       "      <th>25%</th>\n",
       "      <td>2828.250000</td>\n",
       "      <td>35303.000000</td>\n",
       "      <td>0.000000</td>\n",
       "      <td>0.000000</td>\n",
       "      <td>24.000000</td>\n",
       "      <td>0.000000</td>\n",
       "      <td>68.750000</td>\n",
       "      <td>45.000000</td>\n",
       "      <td>14.000000</td>\n",
       "      <td>0.000000</td>\n",
       "      <td>10.471723</td>\n",
       "    </tr>\n",
       "    <tr>\n",
       "      <th>50%</th>\n",
       "      <td>5458.500000</td>\n",
       "      <td>51381.500000</td>\n",
       "      <td>0.000000</td>\n",
       "      <td>0.000000</td>\n",
       "      <td>49.000000</td>\n",
       "      <td>0.000000</td>\n",
       "      <td>396.000000</td>\n",
       "      <td>52.000000</td>\n",
       "      <td>19.000000</td>\n",
       "      <td>0.000000</td>\n",
       "      <td>10.847033</td>\n",
       "    </tr>\n",
       "    <tr>\n",
       "      <th>75%</th>\n",
       "      <td>8427.750000</td>\n",
       "      <td>68522.000000</td>\n",
       "      <td>1.000000</td>\n",
       "      <td>1.000000</td>\n",
       "      <td>74.000000</td>\n",
       "      <td>0.000000</td>\n",
       "      <td>1045.500000</td>\n",
       "      <td>63.000000</td>\n",
       "      <td>25.000000</td>\n",
       "      <td>1.000000</td>\n",
       "      <td>11.134910</td>\n",
       "    </tr>\n",
       "    <tr>\n",
       "      <th>max</th>\n",
       "      <td>11191.000000</td>\n",
       "      <td>666666.000000</td>\n",
       "      <td>1.000000</td>\n",
       "      <td>1.000000</td>\n",
       "      <td>99.000000</td>\n",
       "      <td>1.000000</td>\n",
       "      <td>2525.000000</td>\n",
       "      <td>129.000000</td>\n",
       "      <td>46.000000</td>\n",
       "      <td>5.000000</td>\n",
       "      <td>13.410044</td>\n",
       "    </tr>\n",
       "  </tbody>\n",
       "</table>\n",
       "</div>"
      ],
      "text/plain": [
       "                 ID         Income      Kidhome     Teenhome      Recency  \\\n",
       "count   2240.000000    2216.000000  2240.000000  2240.000000  2240.000000   \n",
       "mean    5592.159821   52247.251354     0.422768     0.483036    49.109375   \n",
       "std     3246.662198   25173.076661     0.494109     0.499824    28.962453   \n",
       "min        0.000000    1730.000000     0.000000     0.000000     0.000000   \n",
       "25%     2828.250000   35303.000000     0.000000     0.000000    24.000000   \n",
       "50%     5458.500000   51381.500000     0.000000     0.000000    49.000000   \n",
       "75%     8427.750000   68522.000000     1.000000     1.000000    74.000000   \n",
       "max    11191.000000  666666.000000     1.000000     1.000000    99.000000   \n",
       "\n",
       "          Complain        Sales          Age    Purchases   Easy_promo  \\\n",
       "count  2240.000000  2240.000000  2240.000000  2240.000000  2240.000000   \n",
       "mean      0.009375   605.798214    53.194196    20.178571     0.446875   \n",
       "std       0.096391   602.249288    11.984069     7.293275     0.890543   \n",
       "min       0.000000     5.000000    26.000000     0.000000     0.000000   \n",
       "25%       0.000000    68.750000    45.000000    14.000000     0.000000   \n",
       "50%       0.000000   396.000000    52.000000    19.000000     0.000000   \n",
       "75%       0.000000  1045.500000    63.000000    25.000000     1.000000   \n",
       "max       1.000000  2525.000000   129.000000    46.000000     5.000000   \n",
       "\n",
       "        log_Income  \n",
       "count  2216.000000  \n",
       "mean     10.753799  \n",
       "std       0.505863  \n",
       "min       7.455877  \n",
       "25%      10.471723  \n",
       "50%      10.847033  \n",
       "75%      11.134910  \n",
       "max      13.410044  "
      ]
     },
     "execution_count": 215,
     "metadata": {},
     "output_type": "execute_result"
    }
   ],
   "source": [
    "df.describe()"
   ]
  },
  {
   "cell_type": "markdown",
   "id": "75fe1532",
   "metadata": {},
   "source": [
    "Ранее мы выяснили, что в нашем датасете имеются пропущенные значения в переменной **Income** и переменной **log_Income** соответсвенно. Посмотрим, сколько у нас пропущенных значений:"
   ]
  },
  {
   "cell_type": "code",
   "execution_count": 224,
   "id": "e5d52622",
   "metadata": {
    "scrolled": true
   },
   "outputs": [
    {
     "data": {
      "text/plain": [
       "ID                     0\n",
       "Education              0\n",
       "Marital_Status         0\n",
       "Income                24\n",
       "Kidhome                0\n",
       "Teenhome               0\n",
       "Recency                0\n",
       "Complain               0\n",
       "Sales                  0\n",
       "Age                    0\n",
       "Purchases              0\n",
       "Easy_promo             0\n",
       "log_Income            24\n",
       "Purchases_Category     0\n",
       "dtype: int64"
      ]
     },
     "execution_count": 224,
     "metadata": {},
     "output_type": "execute_result"
    }
   ],
   "source": [
    "df.isna().sum()"
   ]
  },
  {
   "cell_type": "markdown",
   "id": "af7e99e8",
   "metadata": {},
   "source": [
    "Пропущенных значений всего 24 по обеим переменным. Теперь удалим наши пропущенные значения"
   ]
  },
  {
   "cell_type": "markdown",
   "id": "6c57edae",
   "metadata": {},
   "source": [
    "Чтобы не удалять значения из исходного датафрейма, создадим новый датафрейм **df_clean**"
   ]
  },
  {
   "cell_type": "code",
   "execution_count": 424,
   "id": "b46bc730",
   "metadata": {},
   "outputs": [],
   "source": [
    "df_clean = df.dropna(subset=['Income'])"
   ]
  },
  {
   "cell_type": "code",
   "execution_count": 263,
   "id": "ed3f07b5",
   "metadata": {
    "scrolled": true
   },
   "outputs": [
    {
     "data": {
      "text/plain": [
       "(2216, 17)"
      ]
     },
     "execution_count": 263,
     "metadata": {},
     "output_type": "execute_result"
    }
   ],
   "source": [
    "df_clean.shape"
   ]
  },
  {
   "cell_type": "markdown",
   "id": "534a20c3",
   "metadata": {},
   "source": [
    "Теперь мы имеем очищенный от пропущенных переменных датафрейм df_clean"
   ]
  },
  {
   "cell_type": "markdown",
   "id": "d5dbd7a3",
   "metadata": {},
   "source": [
    "# Выбросы:  \n",
    "Определим, есть ли в наших переменных выбросы. Мы имеем 2 переменные, в которых могут быть выбросы - **Income** и **Sales**. Для определения этих выбросов я импортирую дополнительную библиотеку **scipi.stats**, создам колонки с z-оценками по двум переменным и выведу те значения z-оценок, которые отличаются на 3 среднеквадратичных откланения. "
   ]
  },
  {
   "cell_type": "code",
   "execution_count": 230,
   "id": "43c59348",
   "metadata": {},
   "outputs": [],
   "source": [
    "import scipy.stats"
   ]
  },
  {
   "cell_type": "markdown",
   "id": "e974a70e",
   "metadata": {},
   "source": [
    "1. Переменная Дохода"
   ]
  },
  {
   "cell_type": "code",
   "execution_count": 233,
   "id": "94e7b716",
   "metadata": {},
   "outputs": [
    {
     "name": "stderr",
     "output_type": "stream",
     "text": [
      "/var/folders/04/51fpcw152gj8lxptgk2gghg40000gp/T/ipykernel_1667/3079110550.py:1: SettingWithCopyWarning: \n",
      "A value is trying to be set on a copy of a slice from a DataFrame.\n",
      "Try using .loc[row_indexer,col_indexer] = value instead\n",
      "\n",
      "See the caveats in the documentation: https://pandas.pydata.org/pandas-docs/stable/user_guide/indexing.html#returning-a-view-versus-a-copy\n",
      "  df_clean['z-score_inc']=scipy.stats.zscore(df_clean['Income'])\n"
     ]
    }
   ],
   "source": [
    "df_clean['z-score_inc']=scipy.stats.zscore(df_clean['Income'])"
   ]
  },
  {
   "cell_type": "code",
   "execution_count": 237,
   "id": "1341cae5",
   "metadata": {
    "scrolled": true
   },
   "outputs": [
    {
     "data": {
      "text/html": [
       "<div>\n",
       "<style scoped>\n",
       "    .dataframe tbody tr th:only-of-type {\n",
       "        vertical-align: middle;\n",
       "    }\n",
       "\n",
       "    .dataframe tbody tr th {\n",
       "        vertical-align: top;\n",
       "    }\n",
       "\n",
       "    .dataframe thead th {\n",
       "        text-align: right;\n",
       "    }\n",
       "</style>\n",
       "<table border=\"1\" class=\"dataframe\">\n",
       "  <thead>\n",
       "    <tr style=\"text-align: right;\">\n",
       "      <th></th>\n",
       "      <th>ID</th>\n",
       "      <th>Education</th>\n",
       "      <th>Marital_Status</th>\n",
       "      <th>Income</th>\n",
       "      <th>Kidhome</th>\n",
       "      <th>Teenhome</th>\n",
       "      <th>Recency</th>\n",
       "      <th>Complain</th>\n",
       "      <th>Sales</th>\n",
       "      <th>Age</th>\n",
       "      <th>Purchases</th>\n",
       "      <th>Easy_promo</th>\n",
       "      <th>log_Income</th>\n",
       "      <th>Purchases_Category</th>\n",
       "      <th>z-score_inc</th>\n",
       "    </tr>\n",
       "  </thead>\n",
       "  <tbody>\n",
       "    <tr>\n",
       "      <th>0</th>\n",
       "      <td>5524</td>\n",
       "      <td>Graduation</td>\n",
       "      <td>Single</td>\n",
       "      <td>58138.0</td>\n",
       "      <td>0</td>\n",
       "      <td>0</td>\n",
       "      <td>58</td>\n",
       "      <td>0</td>\n",
       "      <td>1617</td>\n",
       "      <td>65</td>\n",
       "      <td>32</td>\n",
       "      <td>1</td>\n",
       "      <td>10.970575</td>\n",
       "      <td>High</td>\n",
       "      <td>0.234063</td>\n",
       "    </tr>\n",
       "    <tr>\n",
       "      <th>1</th>\n",
       "      <td>2174</td>\n",
       "      <td>Graduation</td>\n",
       "      <td>Single</td>\n",
       "      <td>46344.0</td>\n",
       "      <td>1</td>\n",
       "      <td>1</td>\n",
       "      <td>38</td>\n",
       "      <td>0</td>\n",
       "      <td>27</td>\n",
       "      <td>68</td>\n",
       "      <td>11</td>\n",
       "      <td>0</td>\n",
       "      <td>10.743847</td>\n",
       "      <td>Low</td>\n",
       "      <td>-0.234559</td>\n",
       "    </tr>\n",
       "    <tr>\n",
       "      <th>2</th>\n",
       "      <td>4141</td>\n",
       "      <td>Graduation</td>\n",
       "      <td>Together</td>\n",
       "      <td>71613.0</td>\n",
       "      <td>0</td>\n",
       "      <td>0</td>\n",
       "      <td>26</td>\n",
       "      <td>0</td>\n",
       "      <td>776</td>\n",
       "      <td>57</td>\n",
       "      <td>25</td>\n",
       "      <td>0</td>\n",
       "      <td>11.179032</td>\n",
       "      <td>Normal</td>\n",
       "      <td>0.769478</td>\n",
       "    </tr>\n",
       "    <tr>\n",
       "      <th>3</th>\n",
       "      <td>6182</td>\n",
       "      <td>Graduation</td>\n",
       "      <td>Together</td>\n",
       "      <td>26646.0</td>\n",
       "      <td>1</td>\n",
       "      <td>0</td>\n",
       "      <td>26</td>\n",
       "      <td>0</td>\n",
       "      <td>53</td>\n",
       "      <td>38</td>\n",
       "      <td>14</td>\n",
       "      <td>0</td>\n",
       "      <td>10.190394</td>\n",
       "      <td>Low</td>\n",
       "      <td>-1.017239</td>\n",
       "    </tr>\n",
       "    <tr>\n",
       "      <th>4</th>\n",
       "      <td>5324</td>\n",
       "      <td>PhD</td>\n",
       "      <td>Married</td>\n",
       "      <td>58293.0</td>\n",
       "      <td>1</td>\n",
       "      <td>0</td>\n",
       "      <td>94</td>\n",
       "      <td>0</td>\n",
       "      <td>422</td>\n",
       "      <td>41</td>\n",
       "      <td>24</td>\n",
       "      <td>0</td>\n",
       "      <td>10.973237</td>\n",
       "      <td>Normal</td>\n",
       "      <td>0.240221</td>\n",
       "    </tr>\n",
       "  </tbody>\n",
       "</table>\n",
       "</div>"
      ],
      "text/plain": [
       "     ID   Education Marital_Status   Income  Kidhome  Teenhome  Recency  \\\n",
       "0  5524  Graduation         Single  58138.0        0         0       58   \n",
       "1  2174  Graduation         Single  46344.0        1         1       38   \n",
       "2  4141  Graduation       Together  71613.0        0         0       26   \n",
       "3  6182  Graduation       Together  26646.0        1         0       26   \n",
       "4  5324         PhD        Married  58293.0        1         0       94   \n",
       "\n",
       "   Complain  Sales  Age  Purchases  Easy_promo  log_Income Purchases_Category  \\\n",
       "0         0   1617   65         32           1   10.970575               High   \n",
       "1         0     27   68         11           0   10.743847                Low   \n",
       "2         0    776   57         25           0   11.179032             Normal   \n",
       "3         0     53   38         14           0   10.190394                Low   \n",
       "4         0    422   41         24           0   10.973237             Normal   \n",
       "\n",
       "   z-score_inc  \n",
       "0     0.234063  \n",
       "1    -0.234559  \n",
       "2     0.769478  \n",
       "3    -1.017239  \n",
       "4     0.240221  "
      ]
     },
     "execution_count": 237,
     "metadata": {},
     "output_type": "execute_result"
    }
   ],
   "source": [
    "df_clean.head()"
   ]
  },
  {
   "cell_type": "markdown",
   "id": "f5006f67",
   "metadata": {},
   "source": [
    "2. Переменная Продаж"
   ]
  },
  {
   "cell_type": "code",
   "execution_count": 238,
   "id": "4a5658e2",
   "metadata": {},
   "outputs": [
    {
     "name": "stderr",
     "output_type": "stream",
     "text": [
      "/var/folders/04/51fpcw152gj8lxptgk2gghg40000gp/T/ipykernel_1667/1574455964.py:1: SettingWithCopyWarning: \n",
      "A value is trying to be set on a copy of a slice from a DataFrame.\n",
      "Try using .loc[row_indexer,col_indexer] = value instead\n",
      "\n",
      "See the caveats in the documentation: https://pandas.pydata.org/pandas-docs/stable/user_guide/indexing.html#returning-a-view-versus-a-copy\n",
      "  df_clean['z-score_sales']=scipy.stats.zscore(df_clean['Sales'])\n"
     ]
    },
    {
     "data": {
      "text/html": [
       "<div>\n",
       "<style scoped>\n",
       "    .dataframe tbody tr th:only-of-type {\n",
       "        vertical-align: middle;\n",
       "    }\n",
       "\n",
       "    .dataframe tbody tr th {\n",
       "        vertical-align: top;\n",
       "    }\n",
       "\n",
       "    .dataframe thead th {\n",
       "        text-align: right;\n",
       "    }\n",
       "</style>\n",
       "<table border=\"1\" class=\"dataframe\">\n",
       "  <thead>\n",
       "    <tr style=\"text-align: right;\">\n",
       "      <th></th>\n",
       "      <th>ID</th>\n",
       "      <th>Education</th>\n",
       "      <th>Marital_Status</th>\n",
       "      <th>Income</th>\n",
       "      <th>Kidhome</th>\n",
       "      <th>Teenhome</th>\n",
       "      <th>Recency</th>\n",
       "      <th>Complain</th>\n",
       "      <th>Sales</th>\n",
       "      <th>Age</th>\n",
       "      <th>Purchases</th>\n",
       "      <th>Easy_promo</th>\n",
       "      <th>log_Income</th>\n",
       "      <th>Purchases_Category</th>\n",
       "      <th>z-score_inc</th>\n",
       "      <th>z-score_sales</th>\n",
       "    </tr>\n",
       "  </thead>\n",
       "  <tbody>\n",
       "    <tr>\n",
       "      <th>0</th>\n",
       "      <td>5524</td>\n",
       "      <td>Graduation</td>\n",
       "      <td>Single</td>\n",
       "      <td>58138.0</td>\n",
       "      <td>0</td>\n",
       "      <td>0</td>\n",
       "      <td>58</td>\n",
       "      <td>0</td>\n",
       "      <td>1617</td>\n",
       "      <td>65</td>\n",
       "      <td>32</td>\n",
       "      <td>1</td>\n",
       "      <td>10.970575</td>\n",
       "      <td>High</td>\n",
       "      <td>0.234063</td>\n",
       "      <td>1.675488</td>\n",
       "    </tr>\n",
       "    <tr>\n",
       "      <th>1</th>\n",
       "      <td>2174</td>\n",
       "      <td>Graduation</td>\n",
       "      <td>Single</td>\n",
       "      <td>46344.0</td>\n",
       "      <td>1</td>\n",
       "      <td>1</td>\n",
       "      <td>38</td>\n",
       "      <td>0</td>\n",
       "      <td>27</td>\n",
       "      <td>68</td>\n",
       "      <td>11</td>\n",
       "      <td>0</td>\n",
       "      <td>10.743847</td>\n",
       "      <td>Low</td>\n",
       "      <td>-0.234559</td>\n",
       "      <td>-0.962358</td>\n",
       "    </tr>\n",
       "    <tr>\n",
       "      <th>2</th>\n",
       "      <td>4141</td>\n",
       "      <td>Graduation</td>\n",
       "      <td>Together</td>\n",
       "      <td>71613.0</td>\n",
       "      <td>0</td>\n",
       "      <td>0</td>\n",
       "      <td>26</td>\n",
       "      <td>0</td>\n",
       "      <td>776</td>\n",
       "      <td>57</td>\n",
       "      <td>25</td>\n",
       "      <td>0</td>\n",
       "      <td>11.179032</td>\n",
       "      <td>Normal</td>\n",
       "      <td>0.769478</td>\n",
       "      <td>0.280250</td>\n",
       "    </tr>\n",
       "    <tr>\n",
       "      <th>3</th>\n",
       "      <td>6182</td>\n",
       "      <td>Graduation</td>\n",
       "      <td>Together</td>\n",
       "      <td>26646.0</td>\n",
       "      <td>1</td>\n",
       "      <td>0</td>\n",
       "      <td>26</td>\n",
       "      <td>0</td>\n",
       "      <td>53</td>\n",
       "      <td>38</td>\n",
       "      <td>14</td>\n",
       "      <td>0</td>\n",
       "      <td>10.190394</td>\n",
       "      <td>Low</td>\n",
       "      <td>-1.017239</td>\n",
       "      <td>-0.919224</td>\n",
       "    </tr>\n",
       "    <tr>\n",
       "      <th>4</th>\n",
       "      <td>5324</td>\n",
       "      <td>PhD</td>\n",
       "      <td>Married</td>\n",
       "      <td>58293.0</td>\n",
       "      <td>1</td>\n",
       "      <td>0</td>\n",
       "      <td>94</td>\n",
       "      <td>0</td>\n",
       "      <td>422</td>\n",
       "      <td>41</td>\n",
       "      <td>24</td>\n",
       "      <td>0</td>\n",
       "      <td>10.973237</td>\n",
       "      <td>Normal</td>\n",
       "      <td>0.240221</td>\n",
       "      <td>-0.307044</td>\n",
       "    </tr>\n",
       "  </tbody>\n",
       "</table>\n",
       "</div>"
      ],
      "text/plain": [
       "     ID   Education Marital_Status   Income  Kidhome  Teenhome  Recency  \\\n",
       "0  5524  Graduation         Single  58138.0        0         0       58   \n",
       "1  2174  Graduation         Single  46344.0        1         1       38   \n",
       "2  4141  Graduation       Together  71613.0        0         0       26   \n",
       "3  6182  Graduation       Together  26646.0        1         0       26   \n",
       "4  5324         PhD        Married  58293.0        1         0       94   \n",
       "\n",
       "   Complain  Sales  Age  Purchases  Easy_promo  log_Income Purchases_Category  \\\n",
       "0         0   1617   65         32           1   10.970575               High   \n",
       "1         0     27   68         11           0   10.743847                Low   \n",
       "2         0    776   57         25           0   11.179032             Normal   \n",
       "3         0     53   38         14           0   10.190394                Low   \n",
       "4         0    422   41         24           0   10.973237             Normal   \n",
       "\n",
       "   z-score_inc  z-score_sales  \n",
       "0     0.234063       1.675488  \n",
       "1    -0.234559      -0.962358  \n",
       "2     0.769478       0.280250  \n",
       "3    -1.017239      -0.919224  \n",
       "4     0.240221      -0.307044  "
      ]
     },
     "execution_count": 238,
     "metadata": {},
     "output_type": "execute_result"
    }
   ],
   "source": [
    "df_clean['z-score_sales']=scipy.stats.zscore(df_clean['Sales'])\n",
    "df_clean.head()"
   ]
  },
  {
   "cell_type": "code",
   "execution_count": 265,
   "id": "a962856c",
   "metadata": {},
   "outputs": [
    {
     "data": {
      "text/html": [
       "<div>\n",
       "<style scoped>\n",
       "    .dataframe tbody tr th:only-of-type {\n",
       "        vertical-align: middle;\n",
       "    }\n",
       "\n",
       "    .dataframe tbody tr th {\n",
       "        vertical-align: top;\n",
       "    }\n",
       "\n",
       "    .dataframe thead th {\n",
       "        text-align: right;\n",
       "    }\n",
       "</style>\n",
       "<table border=\"1\" class=\"dataframe\">\n",
       "  <thead>\n",
       "    <tr style=\"text-align: right;\">\n",
       "      <th></th>\n",
       "      <th>ID</th>\n",
       "      <th>Education</th>\n",
       "      <th>Marital_Status</th>\n",
       "      <th>Income</th>\n",
       "      <th>Kidhome</th>\n",
       "      <th>Teenhome</th>\n",
       "      <th>Recency</th>\n",
       "      <th>Complain</th>\n",
       "      <th>Sales</th>\n",
       "      <th>Age</th>\n",
       "      <th>Purchases</th>\n",
       "      <th>Easy_promo</th>\n",
       "      <th>log_Income</th>\n",
       "      <th>Purchases_Category</th>\n",
       "      <th>z-score_inc</th>\n",
       "      <th>z-score_sales</th>\n",
       "    </tr>\n",
       "  </thead>\n",
       "  <tbody>\n",
       "  </tbody>\n",
       "</table>\n",
       "</div>"
      ],
      "text/plain": [
       "Empty DataFrame\n",
       "Columns: [ID, Education, Marital_Status, Income, Kidhome, Teenhome, Recency, Complain, Sales, Age, Purchases, Easy_promo, log_Income, Purchases_Category, z-score_inc, z-score_sales]\n",
       "Index: []"
      ]
     },
     "execution_count": 265,
     "metadata": {},
     "output_type": "execute_result"
    }
   ],
   "source": [
    "df_clean[df_clean['z-score_sales'] < -3]\n",
    "df_clean[df_clean['z-score_inc'] < -3]"
   ]
  },
  {
   "cell_type": "markdown",
   "id": "8a8521b8",
   "metadata": {},
   "source": [
    "Можно видеть, что у нас нет выбросов по нижней границе, поэтому рассмотрим верхниии границы"
   ]
  },
  {
   "cell_type": "code",
   "execution_count": 258,
   "id": "33f654d6",
   "metadata": {
    "scrolled": true
   },
   "outputs": [
    {
     "name": "stdout",
     "output_type": "stream",
     "text": [
      "<class 'pandas.core.series.Series'>\n",
      "Int64Index: 5 entries, 987 to 1572\n",
      "Series name: z-score_sales\n",
      "Non-Null Count  Dtype  \n",
      "--------------  -----  \n",
      "5 non-null      float64\n",
      "dtypes: float64(1)\n",
      "memory usage: 80.0 bytes\n"
     ]
    }
   ],
   "source": [
    "df_clean['z-score_sales'][df_clean['z-score_sales'] > 3].info()"
   ]
  },
  {
   "cell_type": "markdown",
   "id": "d3b1ca02",
   "metadata": {},
   "source": [
    "По нижней границе мы имеем 5 выбросов для переменной Sales"
   ]
  },
  {
   "cell_type": "code",
   "execution_count": 259,
   "id": "0fee730c",
   "metadata": {
    "scrolled": true
   },
   "outputs": [
    {
     "name": "stdout",
     "output_type": "stream",
     "text": [
      "<class 'pandas.core.series.Series'>\n",
      "Int64Index: 8 entries, 164 to 2233\n",
      "Series name: z-score_inc\n",
      "Non-Null Count  Dtype  \n",
      "--------------  -----  \n",
      "8 non-null      float64\n",
      "dtypes: float64(1)\n",
      "memory usage: 128.0 bytes\n"
     ]
    }
   ],
   "source": [
    "df_clean['z-score_inc'][df_clean['z-score_inc'] > 3].info()"
   ]
  },
  {
   "cell_type": "markdown",
   "id": "9d802803",
   "metadata": {},
   "source": [
    "По нижней границе мы имеем 8 выбросов для переменной Income"
   ]
  },
  {
   "cell_type": "markdown",
   "id": "b2dcff14",
   "metadata": {},
   "source": [
    "Далее воспользуемся функцией вывода среднеквадратичного отклонения. "
   ]
  },
  {
   "cell_type": "code",
   "execution_count": 266,
   "id": "4e94a3c6",
   "metadata": {},
   "outputs": [
    {
     "name": "stdout",
     "output_type": "stream",
     "text": [
      "-23271.978628913617 127766.48133649485\n"
     ]
    }
   ],
   "source": [
    "mean = df_clean['Income'].mean()\n",
    "std_inc = df_clean['Income'].std()\n",
    "std_inc_bottom = mean - 3 * std_inc\n",
    "std_inc_top = mean + 3 * std_inc\n",
    "print(std_inc_bottom, std_inc_top)"
   ]
  },
  {
   "cell_type": "markdown",
   "id": "699b48e7",
   "metadata": {},
   "source": [
    "В нижней границе нет отклонений, так как Дохода ниже нуля в данных не имеется. "
   ]
  },
  {
   "cell_type": "code",
   "execution_count": 267,
   "id": "19c2e7be",
   "metadata": {},
   "outputs": [
    {
     "data": {
      "text/plain": [
       "(8, 16)"
      ]
     },
     "execution_count": 267,
     "metadata": {},
     "output_type": "execute_result"
    }
   ],
   "source": [
    "df_clean[df_clean['Income'] > std_inc_top].shape"
   ]
  },
  {
   "cell_type": "markdown",
   "id": "69d9d843",
   "metadata": {},
   "source": [
    "Получаем те же 8 отклонений, что и ранее получили с помощью z-оценки. Повторим то же самое со среднеквадратичным отклонением переменнгой Sales "
   ]
  },
  {
   "cell_type": "code",
   "execution_count": 268,
   "id": "f6855cea",
   "metadata": {},
   "outputs": [
    {
     "name": "stdout",
     "output_type": "stream",
     "text": [
      "-1201.626068046177 2415.7767900678377\n"
     ]
    }
   ],
   "source": [
    "mean = df_clean['Sales'].mean()\n",
    "std_sales = df_clean['Sales'].std()\n",
    "std_sales_bottom = mean - 3 * std_sales\n",
    "std_sales_top = mean + 3 * std_sales\n",
    "print(std_sales_bottom, std_sales_top)"
   ]
  },
  {
   "cell_type": "markdown",
   "id": "2e4eec3b",
   "metadata": {},
   "source": [
    "В нижней границе нет отклонений, так как Продаж ниже нуля в данных не имеется. "
   ]
  },
  {
   "cell_type": "code",
   "execution_count": 269,
   "id": "47559de3",
   "metadata": {},
   "outputs": [
    {
     "data": {
      "text/plain": [
       "(5, 16)"
      ]
     },
     "execution_count": 269,
     "metadata": {},
     "output_type": "execute_result"
    }
   ],
   "source": [
    "df_clean[df_clean['Sales'] > std_sales_top].shape"
   ]
  },
  {
   "cell_type": "markdown",
   "id": "5a715d9b",
   "metadata": {},
   "source": [
    "Получаем те же 5 отклонений, что и ранее получили с помощью z-оценки."
   ]
  },
  {
   "cell_type": "markdown",
   "id": "ed1f7c19",
   "metadata": {},
   "source": [
    "Проверим влияние этих выбросов на меры центрального значения. Для этого создадим датафреймы без выбросов и определим их медианное и среднее значения:"
   ]
  },
  {
   "cell_type": "code",
   "execution_count": 274,
   "id": "fb0456c6",
   "metadata": {},
   "outputs": [],
   "source": [
    "df_clean_outliers_s = df_clean[df_clean['Sales'] <= std_sales_top]"
   ]
  },
  {
   "cell_type": "code",
   "execution_count": 275,
   "id": "08c1756a",
   "metadata": {},
   "outputs": [],
   "source": [
    "df_clean_outliers_i = df_clean[df_clean['Income'] <= std_inc_top]"
   ]
  },
  {
   "cell_type": "code",
   "execution_count": 280,
   "id": "318f5b97",
   "metadata": {},
   "outputs": [
    {
     "name": "stdout",
     "output_type": "stream",
     "text": [
      "Mean income with outliers = 52247.25135379061\n",
      "Mean income without outliers = 51633.63813405797\n",
      "Mean sales with outliers = 607.0753610108303\n",
      "Mean sales without outliers = 602.7946630483943\n"
     ]
    }
   ],
   "source": [
    "print('Mean income with outliers =', df_clean['Income'].mean())\n",
    "print('Mean income without outliers =', df_clean_outliers_i['Income'].mean())\n",
    "print('Mean sales with outliers =', df_clean['Sales'].mean())\n",
    "print('Mean sales without outliers =', df_clean_outliers_s['Sales'].mean())"
   ]
  },
  {
   "cell_type": "code",
   "execution_count": 282,
   "id": "8c125ec7",
   "metadata": {},
   "outputs": [
    {
     "name": "stdout",
     "output_type": "stream",
     "text": [
      "Median income with outliers = 51381.5\n",
      "Median income without outliers = 51301.0\n",
      "Median sales with outliers = 396.5\n",
      "Median sales without outliers = 396.0\n"
     ]
    }
   ],
   "source": [
    "print('Median income with outliers =', df_clean['Income'].median())\n",
    "print('Median income without outliers =', df_clean_outliers_i['Income'].median())\n",
    "print('Median sales with outliers =', df_clean['Sales'].median())\n",
    "print('Median sales without outliers =', df_clean_outliers_s['Sales'].median())"
   ]
  },
  {
   "cell_type": "markdown",
   "id": "41ff02f8",
   "metadata": {},
   "source": [
    "Так как выбросы не имеют критического влияния на меры центрального значения, то продолжим работать с датафреймом **df_clean** с выбросами."
   ]
  },
  {
   "cell_type": "code",
   "execution_count": 321,
   "id": "d273efe7",
   "metadata": {
    "scrolled": false
   },
   "outputs": [
    {
     "data": {
      "text/plain": [
       "count      2216.000000\n",
       "mean      52247.251354\n",
       "std       25173.076661\n",
       "min        1730.000000\n",
       "25%       35303.000000\n",
       "50%       51381.500000\n",
       "75%       68522.000000\n",
       "max      666666.000000\n",
       "Name: Income, dtype: float64"
      ]
     },
     "execution_count": 321,
     "metadata": {},
     "output_type": "execute_result"
    }
   ],
   "source": [
    "df_clean['Income'].describe()"
   ]
  },
  {
   "cell_type": "markdown",
   "id": "fc64a833",
   "metadata": {},
   "source": [
    "Добавим дополнительную категориальную переменную уровня дохода, где уровень дохода делится на высокий  \n",
    "\"High income\" (выше 40 000),  \n",
    "\"Middle income\" (больше или равно 15 000 и меньше 40 000) и  \n",
    "\"Low incime\" (меньше 15 000) "
   ]
  },
  {
   "cell_type": "code",
   "execution_count": 346,
   "id": "55c4d594",
   "metadata": {},
   "outputs": [],
   "source": [
    "def Income_cat(Income):\n",
    "    if Income < 15000:\n",
    "        return 'Low income'\n",
    "    if Income >= 15000 and Income < 40000:\n",
    "        return 'Middle income'\n",
    "    if Income >= 40000:\n",
    "        return 'High income'\n",
    "    else:\n",
    "        return Income\n"
   ]
  },
  {
   "cell_type": "code",
   "execution_count": 347,
   "id": "32263af0",
   "metadata": {
    "scrolled": false
   },
   "outputs": [
    {
     "name": "stderr",
     "output_type": "stream",
     "text": [
      "/var/folders/04/51fpcw152gj8lxptgk2gghg40000gp/T/ipykernel_1667/1856300328.py:1: SettingWithCopyWarning: \n",
      "A value is trying to be set on a copy of a slice from a DataFrame.\n",
      "Try using .loc[row_indexer,col_indexer] = value instead\n",
      "\n",
      "See the caveats in the documentation: https://pandas.pydata.org/pandas-docs/stable/user_guide/indexing.html#returning-a-view-versus-a-copy\n",
      "  df_clean['Income_cat'] = df_clean['Income'].apply(Income_cat)\n"
     ]
    }
   ],
   "source": [
    "df_clean['Income_cat'] = df_clean['Income'].apply(Income_cat)"
   ]
  },
  {
   "cell_type": "code",
   "execution_count": 348,
   "id": "e96cc8d0",
   "metadata": {},
   "outputs": [
    {
     "data": {
      "text/html": [
       "<div>\n",
       "<style scoped>\n",
       "    .dataframe tbody tr th:only-of-type {\n",
       "        vertical-align: middle;\n",
       "    }\n",
       "\n",
       "    .dataframe tbody tr th {\n",
       "        vertical-align: top;\n",
       "    }\n",
       "\n",
       "    .dataframe thead th {\n",
       "        text-align: right;\n",
       "    }\n",
       "</style>\n",
       "<table border=\"1\" class=\"dataframe\">\n",
       "  <thead>\n",
       "    <tr style=\"text-align: right;\">\n",
       "      <th></th>\n",
       "      <th>ID</th>\n",
       "      <th>Education</th>\n",
       "      <th>Marital_Status</th>\n",
       "      <th>Income</th>\n",
       "      <th>Kidhome</th>\n",
       "      <th>Teenhome</th>\n",
       "      <th>Recency</th>\n",
       "      <th>Complain</th>\n",
       "      <th>Sales</th>\n",
       "      <th>Age</th>\n",
       "      <th>Purchases</th>\n",
       "      <th>Easy_promo</th>\n",
       "      <th>log_Income</th>\n",
       "      <th>Purchases_Category</th>\n",
       "      <th>z-score_inc</th>\n",
       "      <th>z-score_sales</th>\n",
       "      <th>Income_cat</th>\n",
       "    </tr>\n",
       "  </thead>\n",
       "  <tbody>\n",
       "    <tr>\n",
       "      <th>0</th>\n",
       "      <td>5524</td>\n",
       "      <td>Graduation</td>\n",
       "      <td>Single</td>\n",
       "      <td>58138.0</td>\n",
       "      <td>0</td>\n",
       "      <td>0</td>\n",
       "      <td>58</td>\n",
       "      <td>0</td>\n",
       "      <td>1617</td>\n",
       "      <td>65</td>\n",
       "      <td>32</td>\n",
       "      <td>1</td>\n",
       "      <td>10.970575</td>\n",
       "      <td>High</td>\n",
       "      <td>0.234063</td>\n",
       "      <td>1.675488</td>\n",
       "      <td>High income</td>\n",
       "    </tr>\n",
       "    <tr>\n",
       "      <th>1</th>\n",
       "      <td>2174</td>\n",
       "      <td>Graduation</td>\n",
       "      <td>Single</td>\n",
       "      <td>46344.0</td>\n",
       "      <td>1</td>\n",
       "      <td>1</td>\n",
       "      <td>38</td>\n",
       "      <td>0</td>\n",
       "      <td>27</td>\n",
       "      <td>68</td>\n",
       "      <td>11</td>\n",
       "      <td>0</td>\n",
       "      <td>10.743847</td>\n",
       "      <td>Low</td>\n",
       "      <td>-0.234559</td>\n",
       "      <td>-0.962358</td>\n",
       "      <td>High income</td>\n",
       "    </tr>\n",
       "    <tr>\n",
       "      <th>2</th>\n",
       "      <td>4141</td>\n",
       "      <td>Graduation</td>\n",
       "      <td>Together</td>\n",
       "      <td>71613.0</td>\n",
       "      <td>0</td>\n",
       "      <td>0</td>\n",
       "      <td>26</td>\n",
       "      <td>0</td>\n",
       "      <td>776</td>\n",
       "      <td>57</td>\n",
       "      <td>25</td>\n",
       "      <td>0</td>\n",
       "      <td>11.179032</td>\n",
       "      <td>Normal</td>\n",
       "      <td>0.769478</td>\n",
       "      <td>0.280250</td>\n",
       "      <td>High income</td>\n",
       "    </tr>\n",
       "    <tr>\n",
       "      <th>3</th>\n",
       "      <td>6182</td>\n",
       "      <td>Graduation</td>\n",
       "      <td>Together</td>\n",
       "      <td>26646.0</td>\n",
       "      <td>1</td>\n",
       "      <td>0</td>\n",
       "      <td>26</td>\n",
       "      <td>0</td>\n",
       "      <td>53</td>\n",
       "      <td>38</td>\n",
       "      <td>14</td>\n",
       "      <td>0</td>\n",
       "      <td>10.190394</td>\n",
       "      <td>Low</td>\n",
       "      <td>-1.017239</td>\n",
       "      <td>-0.919224</td>\n",
       "      <td>Middle income</td>\n",
       "    </tr>\n",
       "    <tr>\n",
       "      <th>4</th>\n",
       "      <td>5324</td>\n",
       "      <td>PhD</td>\n",
       "      <td>Married</td>\n",
       "      <td>58293.0</td>\n",
       "      <td>1</td>\n",
       "      <td>0</td>\n",
       "      <td>94</td>\n",
       "      <td>0</td>\n",
       "      <td>422</td>\n",
       "      <td>41</td>\n",
       "      <td>24</td>\n",
       "      <td>0</td>\n",
       "      <td>10.973237</td>\n",
       "      <td>Normal</td>\n",
       "      <td>0.240221</td>\n",
       "      <td>-0.307044</td>\n",
       "      <td>High income</td>\n",
       "    </tr>\n",
       "  </tbody>\n",
       "</table>\n",
       "</div>"
      ],
      "text/plain": [
       "     ID   Education Marital_Status   Income  Kidhome  Teenhome  Recency  \\\n",
       "0  5524  Graduation         Single  58138.0        0         0       58   \n",
       "1  2174  Graduation         Single  46344.0        1         1       38   \n",
       "2  4141  Graduation       Together  71613.0        0         0       26   \n",
       "3  6182  Graduation       Together  26646.0        1         0       26   \n",
       "4  5324         PhD        Married  58293.0        1         0       94   \n",
       "\n",
       "   Complain  Sales  Age  Purchases  Easy_promo  log_Income Purchases_Category  \\\n",
       "0         0   1617   65         32           1   10.970575               High   \n",
       "1         0     27   68         11           0   10.743847                Low   \n",
       "2         0    776   57         25           0   11.179032             Normal   \n",
       "3         0     53   38         14           0   10.190394                Low   \n",
       "4         0    422   41         24           0   10.973237             Normal   \n",
       "\n",
       "   z-score_inc  z-score_sales     Income_cat  \n",
       "0     0.234063       1.675488    High income  \n",
       "1    -0.234559      -0.962358    High income  \n",
       "2     0.769478       0.280250    High income  \n",
       "3    -1.017239      -0.919224  Middle income  \n",
       "4     0.240221      -0.307044    High income  "
      ]
     },
     "execution_count": 348,
     "metadata": {},
     "output_type": "execute_result"
    }
   ],
   "source": [
    "df_clean.head()"
   ]
  },
  {
   "cell_type": "markdown",
   "id": "865fe119",
   "metadata": {},
   "source": [
    "# Корреляция:"
   ]
  },
  {
   "cell_type": "markdown",
   "id": "54cbdacc",
   "metadata": {},
   "source": [
    "В нашем датафрейме имеется небольшое количество количественных переменных: **Income, log_Income, Age, Sales, Puschases** (потому что изначальная логика исследования строилась на построении регрессионных моделей). Так как все остальные переменные являются либо категорииальными, либо бинарными, то строить корреляцию можно только по 5 количественным переменным, перечисленным выше."
   ]
  },
  {
   "cell_type": "markdown",
   "id": "e5434f96",
   "metadata": {},
   "source": [
    "**Построим зависимость Продаж от Доходов:**"
   ]
  },
  {
   "cell_type": "code",
   "execution_count": 453,
   "id": "36073ace",
   "metadata": {},
   "outputs": [
    {
     "data": {
      "text/plain": [
       "0.6675760903888281"
      ]
     },
     "execution_count": 453,
     "metadata": {},
     "output_type": "execute_result"
    }
   ],
   "source": [
    "df_clean['Sales'].corr(df_clean['Income'])"
   ]
  },
  {
   "cell_type": "code",
   "execution_count": 455,
   "id": "31302962",
   "metadata": {
    "scrolled": false
   },
   "outputs": [
    {
     "data": {
      "text/plain": [
       "<AxesSubplot:xlabel='Income', ylabel='Sales'>"
      ]
     },
     "execution_count": 455,
     "metadata": {},
     "output_type": "execute_result"
    },
    {
     "data": {
      "image/png": "[encoded data removed]",
      "text/plain": [
       "<Figure size 720x360 with 1 Axes>"
      ]
     },
     "metadata": {
      "needs_background": "light"
     },
     "output_type": "display_data"
    }
   ],
   "source": [
    "df_clean.plot('Income', 'Sales', kind='scatter', color='blue', figsize = (10,5))"
   ]
  },
  {
   "cell_type": "markdown",
   "id": "acb82365",
   "metadata": {},
   "source": [
    "Корреляция между данными переменными 66%. Так же на графике рассеивания можно увидеть четкую \"линию\" зависимости Продаж от Дохода"
   ]
  },
  {
   "cell_type": "markdown",
   "id": "efce886e",
   "metadata": {},
   "source": [
    "**Аналогично проведем корреляцию Продаж и логарифма Доходов**"
   ]
  },
  {
   "cell_type": "code",
   "execution_count": 451,
   "id": "0c486048",
   "metadata": {},
   "outputs": [
    {
     "data": {
      "text/plain": [
       "0.6965131210855754"
      ]
     },
     "execution_count": 451,
     "metadata": {},
     "output_type": "execute_result"
    }
   ],
   "source": [
    "df_clean['Sales'].corr(df_clean['log_Income'])"
   ]
  },
  {
   "cell_type": "code",
   "execution_count": 456,
   "id": "e32c0e02",
   "metadata": {
    "scrolled": true
   },
   "outputs": [
    {
     "data": {
      "text/plain": [
       "<AxesSubplot:xlabel='log_Income', ylabel='Sales'>"
      ]
     },
     "execution_count": 456,
     "metadata": {},
     "output_type": "execute_result"
    },
    {
     "data": {
      "image/png": "[encoded data removed]",
      "text/plain": [
       "<Figure size 720x360 with 1 Axes>"
      ]
     },
     "metadata": {
      "needs_background": "light"
     },
     "output_type": "display_data"
    }
   ],
   "source": [
    "df_clean.plot('log_Income', 'Sales', kind='scatter', color='blue', figsize = (10,5))"
   ]
  },
  {
   "cell_type": "markdown",
   "id": "016a878d",
   "metadata": {},
   "source": [
    "Здесь так же прослеживается зависимость - чем больше Доход, тем выше Продажи в абсолютном значении"
   ]
  },
  {
   "cell_type": "markdown",
   "id": "a1022944",
   "metadata": {},
   "source": [
    "**Построим зависимость Продаж и Возраста покупателя**"
   ]
  },
  {
   "cell_type": "code",
   "execution_count": 291,
   "id": "df698eab",
   "metadata": {
    "scrolled": true
   },
   "outputs": [
    {
     "data": {
      "text/plain": [
       "0.11348683837578546"
      ]
     },
     "execution_count": 291,
     "metadata": {},
     "output_type": "execute_result"
    }
   ],
   "source": [
    "df_clean['Sales'].corr(df_clean['Age'])"
   ]
  },
  {
   "cell_type": "markdown",
   "id": "c007e66e",
   "metadata": {},
   "source": [
    "Низкий уровень корреляции 11%"
   ]
  },
  {
   "cell_type": "code",
   "execution_count": 371,
   "id": "3a657710",
   "metadata": {},
   "outputs": [
    {
     "data": {
      "text/plain": [
       "<AxesSubplot:xlabel='Sales', ylabel='Age'>"
      ]
     },
     "execution_count": 371,
     "metadata": {},
     "output_type": "execute_result"
    },
    {
     "data": {
      "image/png": "[encoded data removed]",
      "text/plain": [
       "<Figure size 432x288 with 1 Axes>"
      ]
     },
     "metadata": {
      "needs_background": "light"
     },
     "output_type": "display_data"
    }
   ],
   "source": [
    "df_clean.plot('Sales', 'Age', kind='scatter',color='blue')"
   ]
  },
  {
   "cell_type": "markdown",
   "id": "e1688ac5",
   "metadata": {},
   "source": [
    "На графике есть едва заметная зависимость: чем больше возраст, тем меньше Продажи"
   ]
  },
  {
   "cell_type": "markdown",
   "id": "b957592a",
   "metadata": {},
   "source": [
    "**Построим зависимость Количества Продаж от дохода**"
   ]
  },
  {
   "cell_type": "code",
   "execution_count": 285,
   "id": "e4a28b0d",
   "metadata": {},
   "outputs": [
    {
     "data": {
      "text/plain": [
       "0.4128709740981714"
      ]
     },
     "execution_count": 285,
     "metadata": {},
     "output_type": "execute_result"
    }
   ],
   "source": [
    "df_clean['Purchases'].corr(df_clean['Income'])"
   ]
  },
  {
   "cell_type": "markdown",
   "id": "32efc573",
   "metadata": {},
   "source": [
    "Корреляция 42%, что можно назвать умеренным."
   ]
  },
  {
   "cell_type": "code",
   "execution_count": 372,
   "id": "1ecd6ca6",
   "metadata": {
    "scrolled": true
   },
   "outputs": [
    {
     "data": {
      "text/plain": [
       "<AxesSubplot:xlabel='Purchases', ylabel='Income'>"
      ]
     },
     "execution_count": 372,
     "metadata": {},
     "output_type": "execute_result"
    },
    {
     "data": {
      "image/png": "[encoded data removed]",
      "text/plain": [
       "<Figure size 432x288 with 1 Axes>"
      ]
     },
     "metadata": {
      "needs_background": "light"
     },
     "output_type": "display_data"
    }
   ],
   "source": [
    "df_clean.plot('Purchases', 'Income', kind='scatter', color='blue')"
   ]
  },
  {
   "cell_type": "markdown",
   "id": "c79cf776",
   "metadata": {},
   "source": [
    "**Построим зависимость Количества Продаж от Возраста**"
   ]
  },
  {
   "cell_type": "code",
   "execution_count": 292,
   "id": "8a56ca77",
   "metadata": {},
   "outputs": [
    {
     "data": {
      "text/plain": [
       "0.1378477122187308"
      ]
     },
     "execution_count": 292,
     "metadata": {},
     "output_type": "execute_result"
    }
   ],
   "source": [
    "df_clean['Purchases'].corr(df_clean['Age'])"
   ]
  },
  {
   "cell_type": "markdown",
   "id": "f3033f09",
   "metadata": {},
   "source": [
    "Аналогично Sales Количество продаж практически не зависит от Вощраста клиента"
   ]
  },
  {
   "cell_type": "code",
   "execution_count": 373,
   "id": "7de9eaed",
   "metadata": {},
   "outputs": [
    {
     "data": {
      "text/plain": [
       "<AxesSubplot:xlabel='Purchases', ylabel='Age'>"
      ]
     },
     "execution_count": 373,
     "metadata": {},
     "output_type": "execute_result"
    },
    {
     "data": {
      "image/png": "[encoded data removed]",
      "text/plain": [
       "<Figure size 432x288 with 1 Axes>"
      ]
     },
     "metadata": {
      "needs_background": "light"
     },
     "output_type": "display_data"
    }
   ],
   "source": [
    "df_clean.plot('Purchases', 'Age', kind='scatter', color='blue')"
   ]
  },
  {
   "cell_type": "markdown",
   "id": "d9af2cc7",
   "metadata": {},
   "source": [
    "На гистограмме рассеивания так же не заметна зависимость"
   ]
  },
  {
   "cell_type": "markdown",
   "id": "e5b91bcc",
   "metadata": {},
   "source": [
    "# Визуализация:  \n",
    "Для оформления визуализации воспользуемся дополнительной биьлиотекой **matplotlib.pyplot**"
   ]
  },
  {
   "cell_type": "code",
   "execution_count": 298,
   "id": "a698ed91",
   "metadata": {},
   "outputs": [],
   "source": [
    "import matplotlib.pyplot as plt"
   ]
  },
  {
   "cell_type": "markdown",
   "id": "893efa3d",
   "metadata": {},
   "source": [
    "**Построим bar chart с Уровнем образования и категориальной перемнной Количества Продаж**"
   ]
  },
  {
   "cell_type": "code",
   "execution_count": 442,
   "id": "272ab3e7",
   "metadata": {
    "scrolled": true
   },
   "outputs": [
    {
     "data": {
      "text/plain": [
       "<AxesSubplot:xlabel='Education'>"
      ]
     },
     "execution_count": 442,
     "metadata": {},
     "output_type": "execute_result"
    },
    {
     "data": {
      "image/png": "[encoded data removed]",
      "text/plain": [
       "<Figure size 432x288 with 1 Axes>"
      ]
     },
     "metadata": {
      "needs_background": "light"
     },
     "output_type": "display_data"
    }
   ],
   "source": [
    "df_clean.groupby('Education')['Purchases_Category'].value_counts().unstack().plot(kind='bar', stacked = True)"
   ]
  },
  {
   "cell_type": "markdown",
   "id": "e212172b",
   "metadata": {},
   "source": [
    "Можно заметить, что люди с высшим образованием дулают покупки сильно чаще, чем люди с базовым образованием"
   ]
  },
  {
   "cell_type": "markdown",
   "id": "cf8e353e",
   "metadata": {},
   "source": [
    "**Аналогично построим график Семейного положения и категориальной перемнной Количества Продаж**"
   ]
  },
  {
   "cell_type": "code",
   "execution_count": 443,
   "id": "79032f61",
   "metadata": {
    "scrolled": false
   },
   "outputs": [
    {
     "data": {
      "text/plain": [
       "<AxesSubplot:xlabel='Marital_Status'>"
      ]
     },
     "execution_count": 443,
     "metadata": {},
     "output_type": "execute_result"
    },
    {
     "data": {
      "image/png": "[encoded data removed]",
      "text/plain": [
       "<Figure size 432x288 with 1 Axes>"
      ]
     },
     "metadata": {
      "needs_background": "light"
     },
     "output_type": "display_data"
    }
   ],
   "source": [
    "df_clean.groupby('Marital_Status')['Purchases_Category'].value_counts().unstack().plot(kind='bar', stacked = True)"
   ]
  },
  {
   "cell_type": "markdown",
   "id": "c191113a",
   "metadata": {},
   "source": [
    "По этой гистограмме заметно, что люди в отношениях склонны к высокой частоте покупок, чем одинокие."
   ]
  },
  {
   "cell_type": "markdown",
   "id": "d230a3c0",
   "metadata": {},
   "source": [
    "**Построим график Наличия детей и категориальной перемнной Количества Продаж**"
   ]
  },
  {
   "cell_type": "code",
   "execution_count": 444,
   "id": "84dc9a00",
   "metadata": {
    "scrolled": true
   },
   "outputs": [
    {
     "data": {
      "text/plain": [
       "<AxesSubplot:xlabel='Kidhome'>"
      ]
     },
     "execution_count": 444,
     "metadata": {},
     "output_type": "execute_result"
    },
    {
     "data": {
      "image/png": "[encoded data removed]",
      "text/plain": [
       "<Figure size 432x288 with 1 Axes>"
      ]
     },
     "metadata": {
      "needs_background": "light"
     },
     "output_type": "display_data"
    }
   ],
   "source": [
    "df_clean.groupby('Kidhome')['Purchases_Category'].value_counts().unstack().plot(kind='bar', stacked = True)"
   ]
  },
  {
   "cell_type": "markdown",
   "id": "a1aa7e33",
   "metadata": {},
   "source": [
    "Изначально была гипотеза, что люди с детьми чаще производят покупки, чем без детей, однако из этого графика можно заметить, что клиенты без детей производят покупки чаще"
   ]
  },
  {
   "cell_type": "markdown",
   "id": "76a2c365",
   "metadata": {},
   "source": [
    "**Построим график Наличия подростков и категориальной перемнной Количества Продаж**"
   ]
  },
  {
   "cell_type": "code",
   "execution_count": 445,
   "id": "ad08e8f3",
   "metadata": {},
   "outputs": [
    {
     "data": {
      "text/plain": [
       "<AxesSubplot:xlabel='Teenhome'>"
      ]
     },
     "execution_count": 445,
     "metadata": {},
     "output_type": "execute_result"
    },
    {
     "data": {
      "image/png": "[encoded data removed]",
      "text/plain": [
       "<Figure size 432x288 with 1 Axes>"
      ]
     },
     "metadata": {
      "needs_background": "light"
     },
     "output_type": "display_data"
    }
   ],
   "source": [
    "df_clean.groupby('Teenhome')['Purchases_Category'].value_counts().unstack().plot(kind='bar', stacked = True)"
   ]
  },
  {
   "cell_type": "markdown",
   "id": "2aaf2261",
   "metadata": {},
   "source": [
    "**Построим графики зависимости Продаж от Образования, Семейного положения и Уровня дохода. Для наглядности приведем аналогичные графики с частотой произведения покупок (Purchases).**"
   ]
  },
  {
   "cell_type": "code",
   "execution_count": 325,
   "id": "e1f88af8",
   "metadata": {},
   "outputs": [],
   "source": [
    "df_ed_sales = df_clean.groupby('Education')['Sales'].mean()"
   ]
  },
  {
   "cell_type": "code",
   "execution_count": 352,
   "id": "745a9e3b",
   "metadata": {},
   "outputs": [],
   "source": [
    "df_ed_purchases = df_clean.groupby('Education')['Purchases'].mean()"
   ]
  },
  {
   "cell_type": "code",
   "execution_count": 356,
   "id": "80cf4b50",
   "metadata": {},
   "outputs": [],
   "source": [
    "df_inc_sales = df_clean.groupby('Income_cat')['Sales'].mean()\n",
    "df_inc_purchases = df_clean.groupby('Income_cat')['Purchases'].mean()"
   ]
  },
  {
   "cell_type": "code",
   "execution_count": 362,
   "id": "1ea7b659",
   "metadata": {},
   "outputs": [],
   "source": [
    "df_fam_sales = df_clean.groupby('Marital_Status')['Sales'].mean()\n",
    "df_fam_purchases = df_clean.groupby('Marital_Status')['Purchases'].mean()"
   ]
  },
  {
   "cell_type": "code",
   "execution_count": 458,
   "id": "2af1ad16",
   "metadata": {
    "scrolled": false
   },
   "outputs": [
    {
     "data": {
      "text/plain": [
       "<BarContainer object of 8 artists>"
      ]
     },
     "execution_count": 458,
     "metadata": {},
     "output_type": "execute_result"
    },
    {
     "data": {
      "image/png": "[encoded data removed]",
      "text/plain": [
       "<Figure size 1440x720 with 6 Axes>"
      ]
     },
     "metadata": {
      "needs_background": "light"
     },
     "output_type": "display_data"
    }
   ],
   "source": [
    "fig, ax = plt.subplots(2, 3, figsize=(20, 10))\n",
    "ax[1][0].bar(df_ed_purchases.index, df_ed_purchases, color='red')\n",
    "ax[0][0].bar(df_ed_sales.index, df_ed_sales, color='pink')\n",
    "ax[0][1].bar(df_inc_sales.index, df_inc_sales, color='pink')\n",
    "ax[0][2].bar(df_fam_sales.index, df_fam_sales, color='pink')\n",
    "ax[1][1].bar(df_inc_purchases.index, df_inc_purchases, color='red')\n",
    "ax[1][2].bar(df_fam_purchases.index, df_fam_purchases, color='red')"
   ]
  },
  {
   "cell_type": "markdown",
   "id": "e136e3c9",
   "metadata": {},
   "source": [
    "**Построим зависимость Продаж и частоты покупок от Количества дней с последней покупки:**"
   ]
  },
  {
   "cell_type": "code",
   "execution_count": 380,
   "id": "815c12c0",
   "metadata": {},
   "outputs": [],
   "source": [
    "df_last_sales = df_clean.groupby('Recency')['Sales'].mean()\n",
    "df_last_purchases = df_clean.groupby('Recency')['Purchases'].mean()"
   ]
  },
  {
   "cell_type": "code",
   "execution_count": 404,
   "id": "c853f7be",
   "metadata": {},
   "outputs": [
    {
     "data": {
      "text/plain": [
       "<BarContainer object of 100 artists>"
      ]
     },
     "execution_count": 404,
     "metadata": {},
     "output_type": "execute_result"
    },
    {
     "data": {
      "image/png": "[encoded data removed]",
      "text/plain": [
       "<Figure size 720x360 with 1 Axes>"
      ]
     },
     "metadata": {
      "needs_background": "light"
     },
     "output_type": "display_data"
    }
   ],
   "source": [
    "fig, ax = plt.subplots(figsize=(10, 5))\n",
    "ax.bar(df_last_purchases.index, df_last_purchases, color='red')"
   ]
  },
  {
   "cell_type": "code",
   "execution_count": 402,
   "id": "7d1e2269",
   "metadata": {},
   "outputs": [
    {
     "data": {
      "text/plain": [
       "<BarContainer object of 100 artists>"
      ]
     },
     "execution_count": 402,
     "metadata": {},
     "output_type": "execute_result"
    },
    {
     "data": {
      "image/png": "[encoded data removed]",
      "text/plain": [
       "<Figure size 720x360 with 1 Axes>"
      ]
     },
     "metadata": {
      "needs_background": "light"
     },
     "output_type": "display_data"
    }
   ],
   "source": [
    "fig, ax = plt.subplots(figsize=(10, 5))\n",
    "ax.bar(df_last_sales.index, df_last_sales, color='pink')"
   ]
  },
  {
   "cell_type": "markdown",
   "id": "3849cdfb",
   "metadata": {},
   "source": [
    "# Введение в регрессионный анализ:  \n",
    "Далее я приведу примеры регрессионных моделей, которые прпедполагались при обработке исходных данных."
   ]
  },
  {
   "cell_type": "markdown",
   "id": "6dd08a07",
   "metadata": {},
   "source": [
    "Для начала импортируем необходимые библиотеки"
   ]
  },
  {
   "cell_type": "code",
   "execution_count": 428,
   "id": "00bc4d9e",
   "metadata": {
    "scrolled": false
   },
   "outputs": [],
   "source": [
    "import seaborn as sns\n",
    "import statsmodels.api as sm"
   ]
  },
  {
   "cell_type": "markdown",
   "id": "302f00e9",
   "metadata": {},
   "source": [
    "Проверим наши переменные на мультиколлениарность (взаимозависимость описывающих переменных), чтобы убедиться, что наша модель будет эффективной."
   ]
  },
  {
   "cell_type": "code",
   "execution_count": 430,
   "id": "0ec967c9",
   "metadata": {
    "scrolled": false
   },
   "outputs": [
    {
     "data": {
      "image/png": "[encoded data removed]",
      "text/plain": [
       "<Figure size 1440x1440 with 2 Axes>"
      ]
     },
     "metadata": {
      "needs_background": "light"
     },
     "output_type": "display_data"
    }
   ],
   "source": [
    "plt.figure(figsize =(20,20))\n",
    "p=sns.heatmap(df_clean.corr(), annot=True, cmap='RdYlGn', vmin=-1, vmax=1 )"
   ]
  },
  {
   "cell_type": "markdown",
   "id": "04f9b39c",
   "metadata": {},
   "source": [
    "Можем видеть умеренную корреляцию между переменными"
   ]
  },
  {
   "cell_type": "code",
   "execution_count": 432,
   "id": "b136bb18",
   "metadata": {},
   "outputs": [
    {
     "name": "stdout",
     "output_type": "stream",
     "text": [
      "LinregressResult(slope=0.0022560981356656907, intercept=51.80998129790153, rvalue=0.11348683837578545, pvalue=8.479092916657699e-08, stderr=0.0004197675079430761, intercept_stderr=0.35910747183123604)\n"
     ]
    }
   ],
   "source": [
    "X = df_clean['Sales']\n",
    "y = df_clean['Age']\n",
    "\n",
    "res = scipy.stats.linregress(X, y)\n",
    "print (res)"
   ]
  },
  {
   "cell_type": "markdown",
   "id": "94dfc391",
   "metadata": {},
   "source": [
    "p_value показывает, что модель статистически значима, однако уже видно, что значение r_sq будет низким, то есть модель плохо объясняет дисперсию целеваой переменной"
   ]
  },
  {
   "cell_type": "code",
   "execution_count": 434,
   "id": "cbe7e301",
   "metadata": {},
   "outputs": [
    {
     "data": {
      "text/plain": [
       "0.01287926248453165"
      ]
     },
     "execution_count": 434,
     "metadata": {},
     "output_type": "execute_result"
    }
   ],
   "source": [
    "r_sq = res.rvalue ** 2\n",
    "r_sq"
   ]
  },
  {
   "cell_type": "code",
   "execution_count": 436,
   "id": "cdc62e45",
   "metadata": {},
   "outputs": [
    {
     "name": "stdout",
     "output_type": "stream",
     "text": [
      "                            OLS Regression Results                            \n",
      "==============================================================================\n",
      "Dep. Variable:                    Age   R-squared:                       0.013\n",
      "Model:                            OLS   Adj. R-squared:                  0.012\n",
      "Method:                 Least Squares   F-statistic:                     28.89\n",
      "Date:                Thu, 27 Oct 2022   Prob (F-statistic):           8.48e-08\n",
      "Time:                        17:12:34   Log-Likelihood:                -8633.4\n",
      "No. Observations:                2216   AIC:                         1.727e+04\n",
      "Df Residuals:                    2214   BIC:                         1.728e+04\n",
      "Df Model:                           1                                         \n",
      "Covariance Type:            nonrobust                                         \n",
      "==============================================================================\n",
      "                 coef    std err          t      P>|t|      [0.025      0.975]\n",
      "------------------------------------------------------------------------------\n",
      "const         51.8100      0.359    144.274      0.000      51.106      52.514\n",
      "Sales          0.0023      0.000      5.375      0.000       0.001       0.003\n",
      "==============================================================================\n",
      "Omnibus:                       70.891   Durbin-Watson:                   1.965\n",
      "Prob(Omnibus):                  0.000   Jarque-Bera (JB):              102.241\n",
      "Skew:                           0.321   Prob(JB):                     6.29e-23\n",
      "Kurtosis:                       3.834   Cond. No.                     1.21e+03\n",
      "==============================================================================\n",
      "\n",
      "Notes:\n",
      "[1] Standard Errors assume that the covariance matrix of the errors is correctly specified.\n",
      "[2] The condition number is large, 1.21e+03. This might indicate that there are\n",
      "strong multicollinearity or other numerical problems.\n"
     ]
    }
   ],
   "source": [
    "X_1 = df_clean['Sales']\n",
    "y = df_clean['Age']\n",
    "X_1_cons = sm.add_constant(X_1)\n",
    "\n",
    "model = sm.OLS(y, X_1_cons)\n",
    "res_1 = model.fit()\n",
    "print(res_1.summary())"
   ]
  },
  {
   "cell_type": "markdown",
   "id": "7893439d",
   "metadata": {},
   "source": [
    "В данном домашнем задании не требуется приводить регрессии, однако, несмотря на это многие манипуляции с исходными данными были рассчитаны на дальнейшее использование в регрессиях:  \n",
    "1. Использование зависимые переменные Sales и Purchases для определения реливантных описательных факторов (возраст, логарифм дохода, семейное положение, уровень образования). \n",
    "2. Помимо этого предполагалось построить модель бинарного выбора с зависимой переменной Easy_promo для определения тех характеристик клиента, которые влияют на восприятие клиентами промоакций и маркетинговыз кампаний. "
   ]
  },
  {
   "cell_type": "code",
   "execution_count": null,
   "id": "f55c5c44",
   "metadata": {},
   "outputs": [],
   "source": []
  }
 ],
 "metadata": {
  "kernelspec": {
   "display_name": "Python 3 (ipykernel)",
   "language": "python",
   "name": "python3"
  },
  "language_info": {
   "codemirror_mode": {
    "name": "ipython",
    "version": 3
   },
   "file_extension": ".py",
   "mimetype": "text/x-python",
   "name": "python",
   "nbconvert_exporter": "python",
   "pygments_lexer": "ipython3",
   "version": "3.9.12"
  }
 },
 "nbformat": 4,
 "nbformat_minor": 5
}
